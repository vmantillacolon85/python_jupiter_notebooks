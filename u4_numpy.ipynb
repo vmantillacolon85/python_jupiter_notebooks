{
 "cells": [
  {
   "cell_type": "markdown",
   "metadata": {
    "slideshow": {
     "slide_type": "slide"
    }
   },
   "source": [
    "# NumPy, Numerical Computing 1"
   ]
  },
  {
   "cell_type": "code",
   "execution_count": 1,
   "metadata": {},
   "outputs": [],
   "source": [
    "import numpy as np # importing the module is always a good place to start\n",
    "#import psycopg2"
   ]
  },
  {
   "cell_type": "markdown",
   "metadata": {
    "slideshow": {
     "slide_type": "subslide"
    }
   },
   "source": [
    "## What is NumPy?"
   ]
  },
  {
   "cell_type": "markdown",
   "metadata": {
    "slideshow": {
     "slide_type": "subslide"
    }
   },
   "source": [
    "- Short for \"Numeric Python\", NumPy is a module for scientific computing in Python\n",
    "- NumPy adds a multidimensional array object to the strings, lists, dictionaries etc., available in Python by default. \n",
    "\n"
   ]
  },
  {
   "cell_type": "markdown",
   "metadata": {
    "slideshow": {
     "slide_type": "subslide"
    }
   },
   "source": [
    "NumPy provides derived objects, such as masked arrays and matrices as well as routines for operations on arrays.\n",
    "Which include:\n",
    "\n",
    "- mathematical\n",
    "- logical\n",
    "- shape manipulation \n",
    "- sorting \n",
    "- selecting \n",
    "- linear algebra \n",
    "- basic statistical operations\n",
    "- random simulation \n",
    "\n",
    "and others."
   ]
  },
  {
   "cell_type": "markdown",
   "metadata": {
    "slideshow": {
     "slide_type": "subslide"
    }
   },
   "source": [
    "- NumPy is a key factor in the current popularity of Python as a go-to language for data science applications."
   ]
  },
  {
   "cell_type": "markdown",
   "metadata": {
    "slideshow": {
     "slide_type": "subslide"
    }
   },
   "source": [
    "## Efficient Array Computation with NumPY"
   ]
  },
  {
   "cell_type": "markdown",
   "metadata": {
    "slideshow": {
     "slide_type": "subslide"
    }
   },
   "source": [
    "Let's compare a standard Python list comprehension and NumPy arrays to see which is more efficient.\n",
    "We will multiply two sets with 10,000 elements, element by element.  \n",
    "The `timeit` module is imported and the `timeit.timeit` method is used to measure the average time each method takes to complete out of 10,000 trials."
   ]
  },
  {
   "cell_type": "markdown",
   "metadata": {
    "slideshow": {
     "slide_type": "-"
    }
   },
   "source": [
    "- Vectorization, which is the absence of any explicit looping, indexing, etc., in the NumPy code makes computations with arrays very efficient.    \n",
    "- Removing inefficient “for loops” leaves vectorized code more concise and easier to read than standard Python notation and fewer lines of code lead to fewer bugs.  \n",
    "- NumPy code is similar to standard mathematical notation and is more intuitive and readable as a result."
   ]
  },
  {
   "cell_type": "markdown",
   "metadata": {
    "slideshow": {
     "slide_type": "subslide"
    }
   },
   "source": [
    "Let's compare a standard Python list comprehension and NumPy arrays ro see which is more efficient.\n",
    "We will multiply two sets with 10,000 elements, element by element.  \n",
    "The `timeit` module is imported and the `timeit.timeit` method is used to measure the average time each method takes to complete out of 10,000 trials."
   ]
  },
  {
   "cell_type": "code",
   "execution_count": 4,
   "metadata": {
    "slideshow": {
     "slide_type": "-"
    }
   },
   "outputs": [
    {
     "name": "stdout",
     "output_type": "stream",
     "text": [
      "20.312421500000028\n"
     ]
    }
   ],
   "source": [
    "import timeit\n",
    "\n",
    "def list_method():\n",
    "    list_a = range(10000)\n",
    "    list_b = range(10000)\n",
    "\n",
    "    list_result = [list_a[i] * list_b[i] for i in range(10000)]\n",
    "\n",
    "print(timeit.timeit(list_method, number = 10000))"
   ]
  },
  {
   "cell_type": "code",
   "execution_count": 3,
   "metadata": {},
   "outputs": [
    {
     "name": "stdout",
     "output_type": "stream",
     "text": [
      "0.136106916000017\n"
     ]
    }
   ],
   "source": [
    "def array_method():\n",
    "    array_a = np.arange(10000)            # the np.arange() function is similar to the range() function in standard Python and will be discussed at a later point\n",
    "    array_b = np.arange(10000)\n",
    "\n",
    "    array_result = array_a * array_b      # notice the simplified syntax\n",
    "    \n",
    "print(timeit.timeit(array_method, number = 10000))"
   ]
  },
  {
   "cell_type": "markdown",
   "metadata": {
    "slideshow": {
     "slide_type": "slide"
    }
   },
   "source": [
    "# Learning Objectives \n",
    "\n",
    "1. **Introduction to Arrays.** Introduce and describe NumPy arrays.      \n",
    "2. **Array Creation.** Create and shape placeholder arrays.\n",
    "3. **Array Basic Operations.** Carry out basic operations on arrays.   "
   ]
  },
  {
   "cell_type": "markdown",
   "metadata": {
    "slideshow": {
     "slide_type": "slide"
    }
   },
   "source": [
    "# Learning Obejctive 1: Introduction to Arrays\n",
    "\n",
    "#### Introduce, describe and create NumPy arrays."
   ]
  },
  {
   "cell_type": "markdown",
   "metadata": {
    "slideshow": {
     "slide_type": "subslide"
    }
   },
   "source": [
    "## What is a NumPy array?"
   ]
  },
  {
   "cell_type": "markdown",
   "metadata": {
    "slideshow": {
     "slide_type": "subslide"
    }
   },
   "source": [
    "A numpy array is a grid of values, all of the same type, and is indexed by a tuple of nonnegative integers."
   ]
  },
  {
   "cell_type": "code",
   "execution_count": 5,
   "metadata": {
    "slideshow": {
     "slide_type": "subslide"
    }
   },
   "outputs": [
    {
     "name": "stdout",
     "output_type": "stream",
     "text": [
      "[   1    0    0    0    1    0    0    0 1000]\n",
      "<class 'numpy.ndarray'>\n",
      "int64\n"
     ]
    }
   ],
   "source": [
    "a = np.array([1, 0, 0, 0, 1, 0, 0, 0, 1000])\n",
    "print(a)\n",
    "print(type(a))\n",
    "print(a.dtype)"
   ]
  },
  {
   "cell_type": "markdown",
   "metadata": {
    "slideshow": {
     "slide_type": "subslide"
    }
   },
   "source": [
    "### Features of arrays"
   ]
  },
  {
   "cell_type": "markdown",
   "metadata": {
    "slideshow": {
     "slide_type": "subslide"
    }
   },
   "source": [
    "- The elements in a NumPy array must be of the same data type, and thus will be the same size in memory. The exception: one can have arrays of Python objects, including NumPy, thereby allowing for arrays of different sized elements.\n",
    "\n",
    "- NumPy arrays have a fixed size at creation. Changing the size of an ndarray creates a new array and deletes the original.\n",
    "\n",
    "- NumPy arrays facilitate advanced mathematical and other types of operations on large datasets. \n",
    "\n",
    "- Typically, such operations are executed more efficiently and with less code than is possible using Python’s built-in sequences."
   ]
  },
  {
   "cell_type": "markdown",
   "metadata": {
    "slideshow": {
     "slide_type": "subslide"
    }
   },
   "source": [
    "### Why is it called ndarray?"
   ]
  },
  {
   "cell_type": "markdown",
   "metadata": {},
   "source": [
    "NumPy arrays are called `ndarrays` to emphasize that they can be multi-dimensional."
   ]
  },
  {
   "cell_type": "markdown",
   "metadata": {
    "slideshow": {
     "slide_type": "-"
    }
   },
   "source": [
    "Array `a` is a one-dimensional array containing only integers as its elements. "
   ]
  },
  {
   "cell_type": "code",
   "execution_count": 6,
   "metadata": {
    "slideshow": {
     "slide_type": "subslide"
    }
   },
   "outputs": [
    {
     "name": "stdout",
     "output_type": "stream",
     "text": [
      "[1 2 3 4 5 6 7 8]\n",
      "int64\n",
      "(8,)\n"
     ]
    }
   ],
   "source": [
    "a = np.array([1,2, 3, 4, 5, 6, 7, 8])    # the np.array() function is used to create an ndarray from a list\n",
    "print(a)\n",
    "print(a.dtype)\n",
    "print(a.shape)"
   ]
  },
  {
   "cell_type": "markdown",
   "metadata": {
    "slideshow": {
     "slide_type": "-"
    }
   },
   "source": [
    "Array `b` contains one-dimensional arrays as its elements and is therefore considered a two-dimensional array. "
   ]
  },
  {
   "cell_type": "code",
   "execution_count": 8,
   "metadata": {
    "slideshow": {
     "slide_type": "subslide"
    }
   },
   "outputs": [
    {
     "name": "stdout",
     "output_type": "stream",
     "text": [
      "[[1 2]\n",
      " [3 4]\n",
      " [5 6]\n",
      " [7 8]]\n",
      "int64\n",
      "(4, 2)\n"
     ]
    }
   ],
   "source": [
    "b = np.array([[1,2],[3,4],[5, 6],[7, 8]]) # the np.array() function is used to create an ndarray from a list that contains lists\n",
    "print(b)\n",
    "print(b.dtype)\n",
    "print(b.shape)"
   ]
  },
  {
   "cell_type": "markdown",
   "metadata": {
    "slideshow": {
     "slide_type": "-"
    }
   },
   "source": [
    "Array `c` contains two-dimensional arrays as its elements and is therefore considered a three-dimensional array."
   ]
  },
  {
   "cell_type": "code",
   "execution_count": 9,
   "metadata": {
    "slideshow": {
     "slide_type": "subslide"
    }
   },
   "outputs": [
    {
     "name": "stdout",
     "output_type": "stream",
     "text": [
      "[[[1 2]\n",
      "  [3 4]]\n",
      "\n",
      " [[5 6]\n",
      "  [7 8]]]\n",
      "int64\n",
      "(2, 2, 2)\n"
     ]
    }
   ],
   "source": [
    "c = np.array([[[1,2],[3,4]],[[5, 6],[7, 8]]])  # the np.array() function is used to create an ndarray from a list that contains lists that also contains lists\n",
    "print(c)\n",
    "print(c.dtype)\n",
    "print(c.shape)"
   ]
  },
  {
   "cell_type": "markdown",
   "metadata": {
    "slideshow": {
     "slide_type": "subslide"
    }
   },
   "source": [
    "The nesting of arrays, and the number of dimensions, can go on to an arbitrary number “n” which is why NumPy arrays are referred to as **n-dimensional** arrays or `ndarray`."
   ]
  },
  {
   "cell_type": "markdown",
   "metadata": {
    "slideshow": {
     "slide_type": "subslide"
    }
   },
   "source": [
    "## Creating Arrays"
   ]
  },
  {
   "cell_type": "markdown",
   "metadata": {
    "slideshow": {
     "slide_type": "subslide"
    }
   },
   "source": [
    "NumPy arrays can be created from any Python list or tuple using the `np.array` function.  \n",
    "The type of the array is deduced automatically by NumPy."
   ]
  },
  {
   "cell_type": "code",
   "execution_count": 10,
   "metadata": {
    "slideshow": {
     "slide_type": "subslide"
    }
   },
   "outputs": [
    {
     "name": "stdout",
     "output_type": "stream",
     "text": [
      "[1 2 3 4]\n",
      "int64\n",
      "(4,)\n"
     ]
    }
   ],
   "source": [
    "a = np.array([1, 2, 3, 4])                    # the input is a list of integers\n",
    "print(a)              \n",
    "print(a.dtype)                                # the .dtype method is used to print the data type\n",
    "print(a.shape)"
   ]
  },
  {
   "cell_type": "code",
   "execution_count": 11,
   "metadata": {},
   "outputs": [
    {
     "name": "stdout",
     "output_type": "stream",
     "text": [
      "[1.1 2.1 3.1 4.1]\n",
      "float64\n",
      "(4,)\n"
     ]
    }
   ],
   "source": [
    "b = np.array([1.1, 2.1, 3.1, 4.1])            # the input is a list of floats\n",
    "print(b)\n",
    "print(b.dtype)                                # the .dtype method is used to print the data type\n",
    "print(b.shape)"
   ]
  },
  {
   "cell_type": "code",
   "execution_count": 12,
   "metadata": {
    "slideshow": {
     "slide_type": "subslide"
    }
   },
   "outputs": [
    {
     "name": "stdout",
     "output_type": "stream",
     "text": [
      "[0.5 1.  1.5 2.  2.5 3.  3.5 4.  4.5 5.  5.5 6. ]\n",
      "float64\n",
      "(12,)\n"
     ]
    }
   ],
   "source": [
    "a = np.array([ 0.5, 1.0, 1.5, 2., 2.5, 3.0, 3.5, 4.0, 4.5, 5.0, 5.5, 6.])\n",
    "print(a)\n",
    "print(a.dtype)\n",
    "print(a.shape)\n",
    "\n",
    "# trailing zeros, whether present or absesnt in the array, are absent in the printout"
   ]
  },
  {
   "cell_type": "markdown",
   "metadata": {
    "slideshow": {
     "slide_type": "subslide"
    }
   },
   "source": [
    "The data type of the array can be explicitly specified at creation time.  \n",
    "NumPy supports a much greater variety of numerical types than Python.  \n",
    "NumPy floats and integers default to double precision, int64 and float64."
   ]
  },
  {
   "cell_type": "code",
   "execution_count": 13,
   "metadata": {},
   "outputs": [
    {
     "name": "stdout",
     "output_type": "stream",
     "text": [
      "[1. 2. 3. 4.]\n",
      "float64\n"
     ]
    }
   ],
   "source": [
    "a = np.array([1, 2, 3, 4], dtype = float)    # though the input is a list of integers the dtype argument is set to 'float'\n",
    "print(a)\n",
    "print(a.dtype)"
   ]
  },
  {
   "cell_type": "code",
   "execution_count": 57,
   "metadata": {},
   "outputs": [
    {
     "data": {
      "text/plain": [
       "array(['a', 'b', 'c', 'd', 'e', 'f', 'g', 'h', 'i', 'j'], dtype='<U1')"
      ]
     },
     "execution_count": 57,
     "metadata": {},
     "output_type": "execute_result"
    }
   ],
   "source": [
    "x = np.array([\"a\", \"b\", \"c\", \"d\", \"e\", \"f\", \"g\", \"h\", \"i\", \"j\"])\n",
    "#x = np.array([\"aa\", \"bb\", \"cc\", \"dd\", \"ee\", \"ff\", \"gg\", \"hh\", \"ii\", \"jj\"])\n",
    "x\n",
    "\n",
    "#< represents byte order, small end （ the least significant byte is stored in the smallest address ）\n",
    "#U unicode, data type\n",
    "#1 represents element bit length, data size"
   ]
  },
  {
   "cell_type": "code",
   "execution_count": 17,
   "metadata": {},
   "outputs": [
    {
     "data": {
      "text/plain": [
       "array(['z', 'b', 'c', 'd', 'e', 'f', 'g', 'h', 'i', 'j'], dtype='<U1')"
      ]
     },
     "execution_count": 17,
     "metadata": {},
     "output_type": "execute_result"
    }
   ],
   "source": [
    "x[0]='zz' #Once an array is created the data type may impede future inputs\n",
    "x"
   ]
  },
  {
   "cell_type": "markdown",
   "metadata": {
    "slideshow": {
     "slide_type": "subslide"
    }
   },
   "source": [
    "## Creating Vectors"
   ]
  },
  {
   "cell_type": "markdown",
   "metadata": {
    "slideshow": {
     "slide_type": "subslide"
    }
   },
   "source": [
    "#### What is a vector?"
   ]
  },
  {
   "cell_type": "markdown",
   "metadata": {
    "slideshow": {
     "slide_type": "-"
    }
   },
   "source": [
    "- A vector is a two-dimensional NumPy array with one of the two axes being equal to 1.  \n",
    "- Unlike a scalar, which is a single number or magnitude, a vector is a list of numbers meant to convey magnitude and direction in an arbitrary number of dimensions.  \n",
    "- Row vectors (horizontal) and column vectors (vertical), are very important for vector algebra and machine learning applications."
   ]
  },
  {
   "cell_type": "markdown",
   "metadata": {
    "slideshow": {
     "slide_type": "subslide"
    }
   },
   "source": [
    "- In order to create a vector we use the `np.array` method being careful to use double brackets to create a two-dimensional array of shape (1, 3) for example is two-dimensional as opposed to a one-dimensional array of shape (3, )."
   ]
  },
  {
   "cell_type": "markdown",
   "metadata": {
    "slideshow": {
     "slide_type": "subslide"
    }
   },
   "source": [
    "#### Row Vectors"
   ]
  },
  {
   "cell_type": "code",
   "execution_count": 18,
   "metadata": {
    "slideshow": {
     "slide_type": "-"
    }
   },
   "outputs": [
    {
     "name": "stdout",
     "output_type": "stream",
     "text": [
      "[[1 2 3]]\n"
     ]
    }
   ],
   "source": [
    "row_vector = np.array([[1, 2, 3]])         # creating a two-dimensional array from a list\n",
    "print(row_vector)                         # note the double brackets"
   ]
  },
  {
   "cell_type": "code",
   "execution_count": 19,
   "metadata": {},
   "outputs": [
    {
     "name": "stdout",
     "output_type": "stream",
     "text": [
      "(1, 3)\n"
     ]
    }
   ],
   "source": [
    "print(row_vector.shape)                   # confiming the shape of row_vector is (1, 3)\n",
    "                                          # there are three elements in lowest dimension"
   ]
  },
  {
   "cell_type": "code",
   "execution_count": 20,
   "metadata": {},
   "outputs": [
    {
     "name": "stdout",
     "output_type": "stream",
     "text": [
      "(array([0]), array([2]))\n"
     ]
    }
   ],
   "source": [
    "print(np.where(row_vector == 3))           # np.where provides the indexes at a given value in the array\n",
    "                                           # all the elements are at index 0 in the second dimension "
   ]
  },
  {
   "cell_type": "markdown",
   "metadata": {
    "slideshow": {
     "slide_type": "subslide"
    }
   },
   "source": [
    "#### Column Vectors"
   ]
  },
  {
   "cell_type": "code",
   "execution_count": 21,
   "metadata": {
    "slideshow": {
     "slide_type": "-"
    }
   },
   "outputs": [
    {
     "name": "stdout",
     "output_type": "stream",
     "text": [
      "[[10]\n",
      " [20]\n",
      " [30]]\n"
     ]
    }
   ],
   "source": [
    "column_vector = np.array([[10],[20],[30]]) # creating a two-dimensional array from a list\n",
    "print(column_vector)                       # note the double brackets"
   ]
  },
  {
   "cell_type": "code",
   "execution_count": 22,
   "metadata": {},
   "outputs": [
    {
     "name": "stdout",
     "output_type": "stream",
     "text": [
      "(3, 1)\n"
     ]
    }
   ],
   "source": [
    "print(column_vector.shape)                 # confiming the shape of column_vector is (3, 1) and not (3,)"
   ]
  },
  {
   "cell_type": "code",
   "execution_count": 23,
   "metadata": {},
   "outputs": [
    {
     "name": "stdout",
     "output_type": "stream",
     "text": [
      "(array([2]), array([0]))\n"
     ]
    }
   ],
   "source": [
    "print(np.where(column_vector == 30))       # all the elements are at index 0 in the first dimension"
   ]
  },
  {
   "cell_type": "markdown",
   "metadata": {
    "slideshow": {
     "slide_type": "subslide"
    }
   },
   "source": [
    "# Check for understanding"
   ]
  },
  {
   "cell_type": "markdown",
   "metadata": {
    "slideshow": {
     "slide_type": "-"
    }
   },
   "source": [
    "#### Which of the following statements are true? Select all that apply.\n",
    "\n",
    "(A): A single NumPy array can contain many data types\n",
    "\n",
    "(B): A single NumPy array typically contains only one type of data\n",
    "\n",
    "(C): NumPy arrays can be appended after creation and have no fixed size\n",
    "\n",
    "(D): NumPy arrays are created with their size locked in and cannot be appended like lists\n",
    "\n",
    "(E): Calculations across and between arrays are less efficient with NumPy than standard Python"
   ]
  },
  {
   "cell_type": "markdown",
   "metadata": {
    "slideshow": {
     "slide_type": "slide"
    }
   },
   "source": [
    "# Learning Obejctive 2: Array Creation\n",
    "\n",
    "#### Create and shape placeholder arrays."
   ]
  },
  {
   "cell_type": "markdown",
   "metadata": {
    "slideshow": {
     "slide_type": "subslide"
    }
   },
   "source": [
    "## Placeholder Arrays"
   ]
  },
  {
   "cell_type": "markdown",
   "metadata": {},
   "source": [
    "NumPy offers several solutions for creating arrays with initial placeholder content. These minimize the necessity of growing arrays down the line, requiring deleting and rewriting, which are expensive operations."
   ]
  },
  {
   "cell_type": "markdown",
   "metadata": {
    "slideshow": {
     "slide_type": "subslide"
    }
   },
   "source": [
    "#### np.zeros and np.ones"
   ]
  },
  {
   "cell_type": "markdown",
   "metadata": {
    "slideshow": {
     "slide_type": "subslide"
    }
   },
   "source": [
    "`np.zeros` creates an array of zeros and `np.ones` creates an array of ones.  \n",
    "The first argument plugged into the function controls the number of rows and columns in the placeholder arrays and the data type can be specified as the second argument.  \n",
    "By default, the dtype of a created placeholder array is float64.  \n",
    "**np.function((rows, columns), dtype = data_type)**  "
   ]
  },
  {
   "cell_type": "code",
   "execution_count": 24,
   "metadata": {
    "slideshow": {
     "slide_type": "-"
    }
   },
   "outputs": [
    {
     "name": "stdout",
     "output_type": "stream",
     "text": [
      "float64\n",
      "[0. 0. 0.]\n"
     ]
    }
   ],
   "source": [
    "a = np.zeros((3,))\n",
    "print(a.dtype)\n",
    "print(a)"
   ]
  },
  {
   "cell_type": "code",
   "execution_count": 25,
   "metadata": {
    "slideshow": {
     "slide_type": "-"
    }
   },
   "outputs": [
    {
     "name": "stdout",
     "output_type": "stream",
     "text": [
      "int64\n",
      "[[1 1 1]\n",
      " [1 1 1]]\n"
     ]
    }
   ],
   "source": [
    "b = np.ones((2,3), dtype = int)\n",
    "print(b.dtype)\n",
    "print(b)"
   ]
  },
  {
   "cell_type": "markdown",
   "metadata": {
    "slideshow": {
     "slide_type": "subslide"
    }
   },
   "source": [
    "#### np.empty"
   ]
  },
  {
   "cell_type": "markdown",
   "metadata": {
    "slideshow": {
     "slide_type": "subslide"
    }
   },
   "source": [
    "`np.empty` creates an array of uninitialized values.  \n",
    "The values that were already at that location in the memory before the operation was activated.  \n",
    "This allows the array to be created very quickly but, as you can see below, the content appears random and depends on the state of the memory."
   ]
  },
  {
   "cell_type": "code",
   "execution_count": 26,
   "metadata": {
    "slideshow": {
     "slide_type": "-"
    }
   },
   "outputs": [
    {
     "name": "stdout",
     "output_type": "stream",
     "text": [
      "float64\n",
      "[[0. 0. 0.]\n",
      " [0. 0. 0.]]\n"
     ]
    }
   ],
   "source": [
    "a = np.empty((2,3))\n",
    "print(a.dtype)\n",
    "print(a)"
   ]
  },
  {
   "cell_type": "code",
   "execution_count": 27,
   "metadata": {},
   "outputs": [
    {
     "name": "stdout",
     "output_type": "stream",
     "text": [
      "int64\n",
      "[[0 0 0]\n",
      " [0 0 0]]\n"
     ]
    }
   ],
   "source": [
    "b = np.empty((2,3), dtype = int)\n",
    "print(b.dtype)\n",
    "print(b)"
   ]
  },
  {
   "cell_type": "markdown",
   "metadata": {
    "slideshow": {
     "slide_type": "subslide"
    }
   },
   "source": [
    "#### np.arange"
   ]
  },
  {
   "cell_type": "markdown",
   "metadata": {
    "slideshow": {
     "slide_type": "subslide"
    }
   },
   "source": [
    "`np.arange` is used o create sequences of integers  \n",
    "This function is analogous to the Python built-in range, but returns an array.  \n",
    "**np.arange(inclusive_start, exclusive_stop, step_size)**"
   ]
  },
  {
   "cell_type": "code",
   "execution_count": 55,
   "metadata": {},
   "outputs": [
    {
     "name": "stdout",
     "output_type": "stream",
     "text": [
      "int64\n",
      "[ 0  2  4  6  8 10 12 14 16 18 20 22 24 26 28 30 32 34 36 38 40 42 44 46\n",
      " 48 50 52 54 56 58 60 62 64 66 68 70 72 74 76 78 80 82 84 86 88 90 92 94\n",
      " 96 98]\n"
     ]
    }
   ],
   "source": [
    "a = np.arange(0,100,2)                   # np.arange can assume an array of integers from inputs\n",
    "print(a.dtype)\n",
    "print(a)"
   ]
  },
  {
   "cell_type": "code",
   "execution_count": 29,
   "metadata": {},
   "outputs": [
    {
     "name": "stdout",
     "output_type": "stream",
     "text": [
      "float64\n",
      "[0.1 0.2 0.3 0.4 0.5 0.6 0.7 0.8 0.9]\n"
     ]
    }
   ],
   "source": [
    "b = np.arange(0.1,1.0,0.1)\n",
    "print(b.dtype)\n",
    "print(b)"
   ]
  },
  {
   "cell_type": "markdown",
   "metadata": {
    "slideshow": {
     "slide_type": "subslide"
    }
   },
   "source": [
    "#### np.linspace"
   ]
  },
  {
   "cell_type": "markdown",
   "metadata": {
    "slideshow": {
     "slide_type": "subslide"
    }
   },
   "source": [
    "`np.linspace` can be used as an alternative to np.arange.  \n",
    "The function receives the number of elements that we want as an argument instead of the step argument, allowing the user to more easily select the size of the resulting array.  \n",
    "**np.linspace(inclusive_start, inclusive_stop, number_of_steps)**"
   ]
  },
  {
   "cell_type": "code",
   "execution_count": 31,
   "metadata": {},
   "outputs": [
    {
     "data": {
      "text/plain": [
       "array([2.        , 2.06122449, 2.12244898, 2.18367347, 2.24489796,\n",
       "       2.30612245, 2.36734694, 2.42857143, 2.48979592, 2.55102041,\n",
       "       2.6122449 , 2.67346939, 2.73469388, 2.79591837, 2.85714286,\n",
       "       2.91836735, 2.97959184, 3.04081633, 3.10204082, 3.16326531,\n",
       "       3.2244898 , 3.28571429, 3.34693878, 3.40816327, 3.46938776,\n",
       "       3.53061224, 3.59183673, 3.65306122, 3.71428571, 3.7755102 ,\n",
       "       3.83673469, 3.89795918, 3.95918367, 4.02040816, 4.08163265,\n",
       "       4.14285714, 4.20408163, 4.26530612, 4.32653061, 4.3877551 ,\n",
       "       4.44897959, 4.51020408, 4.57142857, 4.63265306, 4.69387755,\n",
       "       4.75510204, 4.81632653, 4.87755102, 4.93877551, 5.        ])"
      ]
     },
     "execution_count": 31,
     "metadata": {},
     "output_type": "execute_result"
    }
   ],
   "source": [
    "#np.linspace(1,50)  #Defaults value 50 elements\n",
    "np.linspace(2,5)  #Defaults value 50 elements"
   ]
  },
  {
   "cell_type": "code",
   "execution_count": 32,
   "metadata": {},
   "outputs": [
    {
     "name": "stdout",
     "output_type": "stream",
     "text": [
      "float64\n",
      "[  1.  12.  23.  34.  45.  56.  67.  78.  89. 100.]\n",
      "float64\n",
      "[ 1.  2.  3.  4.  5.  6.  7.  8.  9. 10.]\n"
     ]
    }
   ],
   "source": [
    "a = np.linspace(1,100,10)  \n",
    "print(a.dtype)\n",
    "print(a)\n",
    "\n",
    "b = np.linspace(1,10,10)        # because division is at the heart of np.linspace the float datatype is assumed         \n",
    "print(b.dtype)\n",
    "print(b)\n"
   ]
  },
  {
   "cell_type": "code",
   "execution_count": 33,
   "metadata": {},
   "outputs": [],
   "source": [
    "import matplotlib.pyplot as plt\n",
    "\n",
    "def plot_linspace(n):\n",
    "    fig = plt.figure()\n",
    "    ax = fig.add_subplot(111)                 #fig.add_subplot(221), fig.add_subplot(222), fig.add_subplot(331)    \n",
    "    x = np.linspace(0, 10, n)  \n",
    "    y = np.linspace(0, 10, n)                          #np.zeros(n)\n",
    "    p = ax.plot(x, y, 'c',markersize=8)       #Try replacing the 'string' in the function with different letters\n",
    "    ax.set_xlim([-0.5,10.5])\n",
    "    plt.show()"
   ]
  },
  {
   "cell_type": "code",
   "execution_count": 34,
   "metadata": {},
   "outputs": [
    {
     "data": {
      "image/png": "[encoded data removed]",
      "text/plain": [
       "<Figure size 640x480 with 1 Axes>"
      ]
     },
     "metadata": {},
     "output_type": "display_data"
    }
   ],
   "source": [
    "plot_linspace(20)"
   ]
  },
  {
   "cell_type": "code",
   "execution_count": 35,
   "metadata": {},
   "outputs": [],
   "source": [
    "def plot_linspace(n):\n",
    "    fig = plt.figure()\n",
    "    ax = fig.add_subplot(111) \n",
    "    y = np.linspace(0, 10, n)\n",
    "    x = np.linspace(0, 10, n)\n",
    "    p = ax.plot(x, y, 'c',markersize=8) #Try replacing the 'string' in the function with different letters\n",
    "    ax.set_xlim([-0.5,10.5])\n",
    "    plt.show()"
   ]
  },
  {
   "cell_type": "code",
   "execution_count": 36,
   "metadata": {},
   "outputs": [
    {
     "data": {
      "image/png": "[encoded data removed]",
      "text/plain": [
       "<Figure size 640x480 with 1 Axes>"
      ]
     },
     "metadata": {},
     "output_type": "display_data"
    }
   ],
   "source": [
    "plot_linspace(20)"
   ]
  },
  {
   "cell_type": "markdown",
   "metadata": {
    "slideshow": {
     "slide_type": "subslide"
    }
   },
   "source": [
    "# Check for understanding"
   ]
  },
  {
   "cell_type": "markdown",
   "metadata": {},
   "source": [
    "- Make the line in the above chart point at a 45° angle up and then down"
   ]
  },
  {
   "cell_type": "markdown",
   "metadata": {
    "slideshow": {
     "slide_type": "subslide"
    }
   },
   "source": [
    "## Random Arrays"
   ]
  },
  {
   "cell_type": "markdown",
   "metadata": {
    "slideshow": {
     "slide_type": "subslide"
    }
   },
   "source": [
    "Random numbers are often needed for applications in gambling, statistical sampling, computer simulation, cryptography, completely randomized design, and other areas where producing an unpredictable result is desirable. NumPy offers many convenient ways to create arrays of various shapes and populate them with random numbers.  "
   ]
  },
  {
   "cell_type": "markdown",
   "metadata": {
    "slideshow": {
     "slide_type": "subslide"
    }
   },
   "source": [
    "#### random.random"
   ]
  },
  {
   "cell_type": "markdown",
   "metadata": {
    "slideshow": {
     "slide_type": "subslide"
    }
   },
   "source": [
    "To populate an array with random samples between 0 and 1 from a uniform distribution, you can use the `random.random` function.  \n",
    "**random.random(number_of_random_values)**"
   ]
  },
  {
   "cell_type": "code",
   "execution_count": 56,
   "metadata": {},
   "outputs": [
    {
     "name": "stdout",
     "output_type": "stream",
     "text": [
      "[ 7.4409329  92.47069059 99.00298439]\n"
     ]
    },
    {
     "data": {
      "text/plain": [
       "dtype('float64')"
      ]
     },
     "execution_count": 56,
     "metadata": {},
     "output_type": "execute_result"
    }
   ],
   "source": [
    "a = (np.random.random(3)) * 100\n",
    "print(a)\n",
    "a.dtype"
   ]
  },
  {
   "cell_type": "markdown",
   "metadata": {
    "slideshow": {
     "slide_type": "subslide"
    }
   },
   "source": [
    "Double parentheses can be used to select a shape for the array produced in this manner."
   ]
  },
  {
   "cell_type": "code",
   "execution_count": 38,
   "metadata": {},
   "outputs": [
    {
     "name": "stdout",
     "output_type": "stream",
     "text": [
      "[[[0.18830353 0.08023079 0.26454514]\n",
      "  [0.6960484  0.55688824 0.46850006]\n",
      "  [0.58568174 0.11793277 0.00913561]]\n",
      "\n",
      " [[0.84724646 0.04106052 0.88129244]\n",
      "  [0.44883615 0.55396395 0.95753611]\n",
      "  [0.59202651 0.04231168 0.50178776]]\n",
      "\n",
      " [[0.33199548 0.75814323 0.78283342]\n",
      "  [0.87361921 0.66419949 0.71497705]\n",
      "  [0.38401134 0.39919565 0.91761056]]]\n"
     ]
    }
   ],
   "source": [
    "b = np.random.random((3,3,3))\n",
    "print(b)"
   ]
  },
  {
   "cell_type": "markdown",
   "metadata": {
    "slideshow": {
     "slide_type": "subslide"
    }
   },
   "source": [
    "#### random.rand"
   ]
  },
  {
   "cell_type": "markdown",
   "metadata": {
    "slideshow": {
     "slide_type": "subslide"
    }
   },
   "source": [
    "To produce an array of random numbers between 0 and 1 from a **uniform** distribution, of a given shape, the `random.rand` function can be used.  \n",
    "The function assumes the creation of an array and doesn’t require double parentheses when inputting the shape of the array."
   ]
  },
  {
   "cell_type": "code",
   "execution_count": 39,
   "metadata": {},
   "outputs": [
    {
     "name": "stdout",
     "output_type": "stream",
     "text": [
      "[[[0.7780181  0.4931656  0.88469401]\n",
      "  [0.38415048 0.91510779 0.27511904]\n",
      "  [0.94910722 0.69689251 0.7804655 ]]\n",
      "\n",
      " [[0.39159581 0.90563465 0.09915146]\n",
      "  [0.39875894 0.7429078  0.49898424]\n",
      "  [0.54080505 0.5195767  0.78929197]]]\n"
     ]
    }
   ],
   "source": [
    "a = np.random.rand(2,3,3)\n",
    "print(a)"
   ]
  },
  {
   "cell_type": "markdown",
   "metadata": {
    "slideshow": {
     "slide_type": "subslide"
    }
   },
   "source": [
    "#### random.randn"
   ]
  },
  {
   "cell_type": "markdown",
   "metadata": {
    "slideshow": {
     "slide_type": "subslide"
    }
   },
   "source": [
    "To produce an array of random numbers between -3 and 3 from a normal distribution of a given shape the `random.randn` function can be used.  \n",
    "As the distribution is normal the numbers at the center, closer to 0, will occur more frequently than those at the extremes.  \n",
    "- ~68% of values within one standard deviation from the mean  \n",
    "- ~95% of values within two standard deviations from the mean  \n",
    "- ~99% of values within three standard deviations from the mean  "
   ]
  },
  {
   "cell_type": "code",
   "execution_count": 41,
   "metadata": {},
   "outputs": [
    {
     "name": "stdout",
     "output_type": "stream",
     "text": [
      "[[[ 0.32079894  0.78079586 -0.06727311]\n",
      "  [ 1.1862875  -0.72800171  0.57984284]]\n",
      "\n",
      " [[-0.84463382  2.14647929 -1.20212179]\n",
      "  [ 0.08900919  2.0969587  -0.68787429]]\n",
      "\n",
      " [[-0.0751095  -0.51148487 -1.45818334]\n",
      "  [-2.20118898 -0.64888192  0.34438788]]]\n"
     ]
    }
   ],
   "source": [
    "b = np.random.randn(3,2,3)\n",
    "print(b)"
   ]
  },
  {
   "cell_type": "code",
   "execution_count": 45,
   "metadata": {},
   "outputs": [
    {
     "data": {
      "image/png": "[encoded data removed]",
      "text/plain": [
       "<Figure size 1000x400 with 1 Axes>"
      ]
     },
     "metadata": {},
     "output_type": "display_data"
    }
   ],
   "source": [
    "def plot_normal():\n",
    "    norm = np.random.normal(loc=1.0, scale=1.0, size=100000)\n",
    "\n",
    "    fig, ax = plt.subplots(figsize=(10, 4))\n",
    "    _ = ax.hist(norm, bins=100, color=\"m\")\n",
    "    #matplotlib. colors => b : blue. g : green.r : red. c : cyan. m : magenta. y : yellow. k : black. w : white.\n",
    "    \n",
    "plot_normal()"
   ]
  },
  {
   "cell_type": "markdown",
   "metadata": {
    "slideshow": {
     "slide_type": "subslide"
    }
   },
   "source": [
    "#### random.randint"
   ]
  },
  {
   "cell_type": "markdown",
   "metadata": {
    "slideshow": {
     "slide_type": "subslide"
    }
   },
   "source": [
    "To produce an array of random integers within a given range the `random.randint` function is used.  \n",
    "Though a one-dimensional array is produced by default a size parameter can be specified to produce an array of any desired shape.  \n",
    "**randint(int1_inclusive, int2_exclusive, number of elements)**"
   ]
  },
  {
   "cell_type": "code",
   "execution_count": 46,
   "metadata": {},
   "outputs": [
    {
     "name": "stdout",
     "output_type": "stream",
     "text": [
      "[4 7 7 4 9 8 6 3 5 8 8 8 5 6 7 9 5 1 6 2 3 3 5 5 4 7 6 7 1 9 2 2 5 3 5 1 8\n",
      " 7 7 9 9 7 3 2 6 8 6 8 7 4 7 2 6 6 6 1 1 4 6 3 4 5 4 9 6 6 6 7 5 6 8 3 1 5\n",
      " 9 7 4 2 3 7 6 8 7 2 3 2 3 9 3 1 6 1 7 2 3 6 7 9 6 4]\n"
     ]
    }
   ],
   "source": [
    "a = np.random.randint(1,10,100)\n",
    "print(a)"
   ]
  },
  {
   "cell_type": "code",
   "execution_count": 47,
   "metadata": {},
   "outputs": [
    {
     "name": "stdout",
     "output_type": "stream",
     "text": [
      "[[[ 4 -8  1 -9]\n",
      "  [ 5 -4 -6 -6]\n",
      "  [ 7 -7 -1 -6]]\n",
      "\n",
      " [[ 0  1  8 -9]\n",
      "  [-3 -9  0  9]\n",
      "  [ 3 -8  7 -4]]\n",
      "\n",
      " [[-4  4 -2 -9]\n",
      "  [-5  8  9 -9]\n",
      "  [-5 -2 -7  1]]]\n"
     ]
    }
   ],
   "source": [
    "b = np.random.randint(-10,10, size=(3,3,4))\n",
    "print(b)"
   ]
  },
  {
   "cell_type": "markdown",
   "metadata": {
    "slideshow": {
     "slide_type": "subslide"
    }
   },
   "source": [
    "#### random.choice"
   ]
  },
  {
   "cell_type": "markdown",
   "metadata": {
    "slideshow": {
     "slide_type": "subslide"
    }
   },
   "source": [
    "The `random.choice` function can be used to generate a random sample from a given one-dimensional array, or list.  \n",
    "Like random.randint, the size parameter can be used to select the shape of the resultant array."
   ]
  },
  {
   "cell_type": "code",
   "execution_count": 48,
   "metadata": {},
   "outputs": [
    {
     "name": "stdout",
     "output_type": "stream",
     "text": [
      "[['Jane' 'Harry' 'Harry']\n",
      " ['Marie' 'Jane' 'Eryn']\n",
      " ['Harry' 'Tom' 'Tom']]\n"
     ]
    }
   ],
   "source": [
    "names = ['Tom', 'Dick', 'Harry', 'Jane', 'Eryn', 'Marie']\n",
    "\n",
    "a = np.random.choice(names, size=(3,3))\n",
    "print(a)"
   ]
  },
  {
   "cell_type": "markdown",
   "metadata": {
    "slideshow": {
     "slide_type": "subslide"
    }
   },
   "source": [
    "The probability parameter, p, can be used to select the probability that a given element will be selected.  \n",
    "The probability for a given element must input at the same index as the element itself in the original list or array."
   ]
  },
  {
   "cell_type": "code",
   "execution_count": 49,
   "metadata": {},
   "outputs": [
    {
     "name": "stdout",
     "output_type": "stream",
     "text": [
      "[['Jane' 'Harry' 'Marie']\n",
      " ['Harry' 'Marie' 'Marie']\n",
      " ['Eryn' 'Dick' 'Harry']]\n"
     ]
    }
   ],
   "source": [
    "b = np.random.choice(names, size=(3,3), p=[0.0,0.15,0.15,0.2,0.2,0.3])\n",
    "print(b)"
   ]
  },
  {
   "cell_type": "markdown",
   "metadata": {
    "slideshow": {
     "slide_type": "subslide"
    }
   },
   "source": [
    "# Breakout"
   ]
  },
  {
   "cell_type": "markdown",
   "metadata": {},
   "source": [
    "Create a function called `loaded_die(numbers)` that takes in a list of numbers, 1 - 6, and produces a single number as an output, simulating a dice roll. Since this die is loaded the probability of landing a 5 or 6 is 60% while all other numbers are unaffected."
   ]
  },
  {
   "cell_type": "code",
   "execution_count": null,
   "metadata": {},
   "outputs": [],
   "source": []
  },
  {
   "cell_type": "code",
   "execution_count": 51,
   "metadata": {
    "tags": []
   },
   "outputs": [
    {
     "data": {
      "text/plain": [
       "6"
      ]
     },
     "execution_count": 51,
     "metadata": {},
     "output_type": "execute_result"
    }
   ],
   "source": [
    "numbers = [1,2,3,4,5,6]\n",
    "\n",
    "def loaded_die(numbers):\n",
    "    return np.random.choice(numbers, p = [0.1,0.1,0.1,0.1,0.3,0.3])\n",
    "\n",
    "loaded_die(numbers)"
   ]
  },
  {
   "cell_type": "code",
   "execution_count": 53,
   "metadata": {},
   "outputs": [
    {
     "data": {
      "text/plain": [
       "2"
      ]
     },
     "execution_count": 53,
     "metadata": {},
     "output_type": "execute_result"
    }
   ],
   "source": [
    "numbers = [1,2,3,4,5,6]\n",
    "\n",
    "def loaded_die(numbers):\n",
    "    return np.random.choice(numbers, p = [0.1,0.1,0.1,0.1,0.3,0.3])\n",
    "\n",
    "loaded_die(numbers)"
   ]
  },
  {
   "cell_type": "markdown",
   "metadata": {
    "slideshow": {
     "slide_type": "slide"
    }
   },
   "source": [
    "# Learning Obejctive 3: Array Basic Operations \n",
    "#### Carry out basic operations on arrays\n"
   ]
  },
  {
   "cell_type": "markdown",
   "metadata": {
    "slideshow": {
     "slide_type": "subslide"
    }
   },
   "source": [
    "# Basic Operations"
   ]
  },
  {
   "cell_type": "markdown",
   "metadata": {
    "slideshow": {
     "slide_type": "subslide"
    }
   },
   "source": [
    "NumPy provides many options for interacting with arrays once they are created.  \n",
    "There are methods for shaping arrays to the desired size and dimensions, checking the descriptive attributes of arrays.  \n",
    "There are common mathematical functions such as standard deviation and square root. "
   ]
  },
  {
   "cell_type": "markdown",
   "metadata": {
    "slideshow": {
     "slide_type": "subslide"
    }
   },
   "source": [
    "## Shaping Arrays"
   ]
  },
  {
   "cell_type": "markdown",
   "metadata": {
    "slideshow": {
     "slide_type": "subslide"
    }
   },
   "source": [
    "The shape of an array is the number of elements in each dimension. important component of functionality, it determines and limits the arrays that it can interact with directly or through broadcasting.  \n",
    "By default, when you print an array, NumPy displays it in a similar way to nested lists, with the following layout:"
   ]
  },
  {
   "cell_type": "markdown",
   "metadata": {
    "slideshow": {
     "slide_type": "subslide"
    }
   },
   "source": [
    "- the last axis is printed from left to right\n",
    "- the second-to-last is printed from top to bottom,\n",
    "- the rest are also printed from top to bottom, with each slice separated from the next by an empty line."
   ]
  },
  {
   "cell_type": "markdown",
   "metadata": {
    "slideshow": {
     "slide_type": "subslide"
    }
   },
   "source": [
    "#### ndarray.reshape"
   ]
  },
  {
   "cell_type": "markdown",
   "metadata": {
    "slideshow": {
     "slide_type": "subslide"
    }
   },
   "source": [
    "The `ndarray.reshape` function is used to select a desired shape for a given array. \n",
    "In the example, `a.reshape(x,y,z)` returns an array of a desired shape without changing the original array, “a” is the original array, “z” is the number of elements per one-dimensional array, “y” is the number of one-dimensional arrays and “x” is the number of two-dimensional arrays. Array “a” is printed at the end of the series to show that the series of transformations that were undertaken did not change the original array.\n",
    "\n",
    "A quick check can be performed to confirm that a given shape is valid for an array. In a valid array, the product of the multiplication of the axes should equal to the number of elements in an array. For example, a one-dimensional array with 16 elements could be transformed into arrays with the shapes (4, 4) or (2, 2, 4) as 4 × 4 = 16 and 2 × 2 × 4 = 16 but not a shape such as (2, 2, 3) as 2 × 2 × 3 = 12 and would not contain the correct number of elements."
   ]
  },
  {
   "cell_type": "code",
   "execution_count": null,
   "metadata": {
    "slideshow": {
     "slide_type": "subslide"
    }
   },
   "outputs": [],
   "source": [
    "a = np.array([ 0, 1, 2, 3, 4, 5, 6, 7, 8, 9, 10, 11])  # one-dimensional array\n",
    "print(a)"
   ]
  },
  {
   "cell_type": "code",
   "execution_count": null,
   "metadata": {
    "slideshow": {
     "slide_type": "subslide"
    }
   },
   "outputs": [],
   "source": [
    "b = a.reshape(2,6)                                     # two-dimensional array\n",
    "print(b)"
   ]
  },
  {
   "cell_type": "code",
   "execution_count": null,
   "metadata": {
    "slideshow": {
     "slide_type": "subslide"
    }
   },
   "outputs": [],
   "source": [
    "c = b.reshape(2,2,3)                                   # three-dimensional array\n",
    "print(c)"
   ]
  },
  {
   "cell_type": "markdown",
   "metadata": {},
   "source": [
    "- the last axis is printed from left to right\n",
    "- the second-to-last is printed from top to bottom,\n",
    "- the rest are also printed from top to bottom, with each slice separated from the next by an empty line."
   ]
  },
  {
   "cell_type": "code",
   "execution_count": null,
   "metadata": {
    "slideshow": {
     "slide_type": "subslide"
    }
   },
   "outputs": [],
   "source": [
    "print(a)                                               # original one-dimensional array is unchanged"
   ]
  },
  {
   "cell_type": "markdown",
   "metadata": {
    "slideshow": {
     "slide_type": "subslide"
    }
   },
   "source": [
    "#### -1"
   ]
  },
  {
   "cell_type": "markdown",
   "metadata": {
    "slideshow": {
     "slide_type": "subslide"
    }
   },
   "source": [
    "NumPy provides a convenient feature for people that have difficulty figuring out the appropriate dimensions for their arrays.  \n",
    "If a dimension is given as -1 in a reshaping operation, this dimension is calculated automatically. This placeholder may be used in only one dimension per reshaping operation."
   ]
  },
  {
   "cell_type": "code",
   "execution_count": null,
   "metadata": {},
   "outputs": [],
   "source": [
    "a = np.arange(24)\n",
    "print(a)"
   ]
  },
  {
   "cell_type": "code",
   "execution_count": null,
   "metadata": {
    "slideshow": {
     "slide_type": "subslide"
    }
   },
   "outputs": [],
   "source": [
    "b = a.reshape(4, -1) #the number of dimensions = the number of arguments\n",
    "                     # in the reshape function\n",
    "print(b)"
   ]
  },
  {
   "cell_type": "code",
   "execution_count": null,
   "metadata": {
    "slideshow": {
     "slide_type": "subslide"
    }
   },
   "outputs": [],
   "source": [
    "c = b.reshape(3,-1,4) #3*5*2=30\n",
    "print(c)"
   ]
  },
  {
   "cell_type": "code",
   "execution_count": null,
   "metadata": {},
   "outputs": [],
   "source": [
    "print(a)"
   ]
  },
  {
   "cell_type": "markdown",
   "metadata": {
    "slideshow": {
     "slide_type": "subslide"
    }
   },
   "source": [
    "#### ndarray.resize"
   ]
  },
  {
   "cell_type": "markdown",
   "metadata": {
    "slideshow": {
     "slide_type": "subslide"
    }
   },
   "source": [
    "The ndarray.resize works and accepts arguments in a manner very similar to ndarray.reshape but unlike that operation ndarray.resize modifies the array itself and doesn’t accept –1 as a valid dimension wildcard."
   ]
  },
  {
   "cell_type": "code",
   "execution_count": null,
   "metadata": {},
   "outputs": [],
   "source": [
    "a = np.arange(6)\n",
    "print(a)"
   ]
  },
  {
   "cell_type": "code",
   "execution_count": null,
   "metadata": {
    "slideshow": {
     "slide_type": "subslide"
    }
   },
   "outputs": [],
   "source": [
    "a.resize(3,2)\n",
    "print(a)"
   ]
  },
  {
   "cell_type": "code",
   "execution_count": null,
   "metadata": {
    "slideshow": {
     "slide_type": "subslide"
    }
   },
   "outputs": [],
   "source": [
    "print(a)                      # original one-dimensional array is replaced"
   ]
  },
  {
   "cell_type": "code",
   "execution_count": null,
   "metadata": {
    "slideshow": {
     "slide_type": "subslide"
    }
   },
   "outputs": [],
   "source": [
    "a.resize(2,-1)                # -1 is not accepted as an argument\n",
    "print(a)"
   ]
  },
  {
   "cell_type": "markdown",
   "metadata": {
    "slideshow": {
     "slide_type": "subslide"
    }
   },
   "source": [
    "## Shaping Vectors"
   ]
  },
  {
   "cell_type": "markdown",
   "metadata": {
    "slideshow": {
     "slide_type": "subslide"
    }
   },
   "source": [
    "Because vectors are two-dimensional arrays, ndarrays can be reshaped into vectors.   \n",
    "A column vector is created when an array is shaped with all its elements stacked in a single column, where the number of units in each row is one, as in ndarray.reashape(10, 1) or ndarray.reashape(-1, 1).  \n",
    "A row vector is created when an array is shaped with all its elements stacked in a single row, where the number of units in each column is one, as in ndarray.reashape(1, 10) or ndarray.reashape(1,- 1).  "
   ]
  },
  {
   "cell_type": "code",
   "execution_count": null,
   "metadata": {},
   "outputs": [],
   "source": [
    "a = np.array([[1], [2], [3], [4]]).reshape(2,2)\n",
    "print (a)"
   ]
  },
  {
   "cell_type": "code",
   "execution_count": null,
   "metadata": {},
   "outputs": [],
   "source": [
    "b = a.reshape(4, 1)   # column vector\n",
    "print(b)"
   ]
  },
  {
   "cell_type": "code",
   "execution_count": null,
   "metadata": {},
   "outputs": [],
   "source": [
    "c = a.reshape(1,4)    # row vector\n",
    "print(c)"
   ]
  },
  {
   "cell_type": "markdown",
   "metadata": {
    "slideshow": {
     "slide_type": "subslide"
    }
   },
   "source": [
    "## Basic Attributes"
   ]
  },
  {
   "cell_type": "markdown",
   "metadata": {
    "slideshow": {
     "slide_type": "subslide"
    }
   },
   "source": [
    "ndarray is a distinct object and has unique attributes.  \n",
    "NumPy provides methods for the user to explore these attributes. Arrays a, b, and c, each shaped in a different way, will be used to demonstrate these methods."
   ]
  },
  {
   "cell_type": "code",
   "execution_count": null,
   "metadata": {},
   "outputs": [],
   "source": [
    "a = np.array([ 0.5, 1.0, 1.5, 2., 2.5, 3.0, 3.5, 4.0, 4.5, 5.0, 5.5, 6.])\n",
    "print(a)"
   ]
  },
  {
   "cell_type": "code",
   "execution_count": null,
   "metadata": {},
   "outputs": [],
   "source": [
    "b = a.reshape(2,6)\n",
    "print(b)"
   ]
  },
  {
   "cell_type": "code",
   "execution_count": null,
   "metadata": {},
   "outputs": [],
   "source": [
    "c = np.arange(24).reshape(2,2,-1)\n",
    "print(c)"
   ]
  },
  {
   "cell_type": "markdown",
   "metadata": {
    "slideshow": {
     "slide_type": "subslide"
    }
   },
   "source": [
    "#### ndarray.ndim"
   ]
  },
  {
   "cell_type": "markdown",
   "metadata": {
    "slideshow": {
     "slide_type": "subslide"
    }
   },
   "source": [
    "`ndarray.ndim` returns the number of dimensions of the array."
   ]
  },
  {
   "cell_type": "code",
   "execution_count": null,
   "metadata": {},
   "outputs": [],
   "source": [
    "print(a.ndim)"
   ]
  },
  {
   "cell_type": "code",
   "execution_count": null,
   "metadata": {},
   "outputs": [],
   "source": [
    "print(b.ndim)"
   ]
  },
  {
   "cell_type": "code",
   "execution_count": null,
   "metadata": {},
   "outputs": [],
   "source": [
    "print(c.ndim)"
   ]
  },
  {
   "cell_type": "markdown",
   "metadata": {
    "slideshow": {
     "slide_type": "subslide"
    }
   },
   "source": [
    "#### ndarray.shape "
   ]
  },
  {
   "cell_type": "markdown",
   "metadata": {
    "slideshow": {
     "slide_type": "subslide"
    }
   },
   "source": [
    "`ndarray.shape` returns a tuple of integers indicating the size of the array in each dimension.  \n",
    "For a matrix with n rows and m columns, shape will be (n,m). The length of the shape tuple is therefore the number of axes, ndim."
   ]
  },
  {
   "cell_type": "code",
   "execution_count": null,
   "metadata": {},
   "outputs": [],
   "source": [
    "print(a.shape)"
   ]
  },
  {
   "cell_type": "code",
   "execution_count": null,
   "metadata": {},
   "outputs": [],
   "source": [
    "print(b.shape)"
   ]
  },
  {
   "cell_type": "code",
   "execution_count": null,
   "metadata": {},
   "outputs": [],
   "source": [
    "print(c.shape)"
   ]
  },
  {
   "cell_type": "markdown",
   "metadata": {
    "slideshow": {
     "slide_type": "subslide"
    }
   },
   "source": [
    "#### ndarray.size"
   ]
  },
  {
   "cell_type": "markdown",
   "metadata": {
    "slideshow": {
     "slide_type": "subslide"
    }
   },
   "source": [
    "`ndarray.size` returns the product of the array’s dimensions. This is equal to the product of the elements of shape."
   ]
  },
  {
   "cell_type": "code",
   "execution_count": null,
   "metadata": {},
   "outputs": [],
   "source": [
    "print(a.shape)\n",
    "print(a.size) # 12 * 1 = 12"
   ]
  },
  {
   "cell_type": "code",
   "execution_count": null,
   "metadata": {},
   "outputs": [],
   "source": [
    "print(b.shape)\n",
    "print(b.size) # 2 * 6 = 12"
   ]
  },
  {
   "cell_type": "code",
   "execution_count": null,
   "metadata": {},
   "outputs": [],
   "source": [
    "print(c.shape)\n",
    "print(c.size) # 2 * 2 * 6 = 12"
   ]
  },
  {
   "cell_type": "markdown",
   "metadata": {
    "slideshow": {
     "slide_type": "subslide"
    }
   },
   "source": [
    "#### ndarray.dtype"
   ]
  },
  {
   "cell_type": "markdown",
   "metadata": {
    "slideshow": {
     "slide_type": "subslide"
    }
   },
   "source": [
    "`ndarray.dtype` returns an object describing the type of the elements in the array.  \n",
    "One can create or specify dtype’s using standard Python types. Additionally, NumPy provides types of its own. numpy.int32, numpy.int16, and numpy.float64 are some examples."
   ]
  },
  {
   "cell_type": "code",
   "execution_count": null,
   "metadata": {},
   "outputs": [],
   "source": [
    "print(a.dtype)"
   ]
  },
  {
   "cell_type": "code",
   "execution_count": null,
   "metadata": {},
   "outputs": [],
   "source": [
    "print(b.dtype)"
   ]
  },
  {
   "cell_type": "code",
   "execution_count": null,
   "metadata": {},
   "outputs": [],
   "source": [
    "print(c.dtype)\n",
    "type(c)"
   ]
  },
  {
   "cell_type": "markdown",
   "metadata": {
    "slideshow": {
     "slide_type": "subslide"
    }
   },
   "source": [
    "#### ndarray.itemsize"
   ]
  },
  {
   "cell_type": "markdown",
   "metadata": {
    "slideshow": {
     "slide_type": "subslide"
    }
   },
   "source": [
    "`ndarray.itemsize` returns the size in bytes of each element of the array.  \n",
    "For example, an array of elements of type float64 has itemsize 8 (=64/8), while one of type complex32 has itemsize 4 (=32/8).  \n",
    "It is equivalent to ndarray.dtype.itemsize."
   ]
  },
  {
   "cell_type": "code",
   "execution_count": null,
   "metadata": {},
   "outputs": [],
   "source": [
    "print(a.itemsize)"
   ]
  },
  {
   "cell_type": "code",
   "execution_count": null,
   "metadata": {},
   "outputs": [],
   "source": [
    "print(b.itemsize)"
   ]
  },
  {
   "cell_type": "code",
   "execution_count": null,
   "metadata": {},
   "outputs": [],
   "source": [
    "print(c.itemsize)"
   ]
  },
  {
   "cell_type": "markdown",
   "metadata": {
    "slideshow": {
     "slide_type": "subslide"
    }
   },
   "source": [
    "#### ndarray.data"
   ]
  },
  {
   "cell_type": "markdown",
   "metadata": {
    "slideshow": {
     "slide_type": "subslide"
    }
   },
   "source": [
    "`ndarray.data` returns the buffer containing the actual elements of the array.  \n",
    "Normally, we won’t need to use this attribute because we will access the elements in an array using indexing facilities."
   ]
  },
  {
   "cell_type": "code",
   "execution_count": null,
   "metadata": {},
   "outputs": [],
   "source": [
    "print(a.data)"
   ]
  },
  {
   "cell_type": "code",
   "execution_count": null,
   "metadata": {},
   "outputs": [],
   "source": [
    "print(b.data)"
   ]
  },
  {
   "cell_type": "code",
   "execution_count": null,
   "metadata": {},
   "outputs": [],
   "source": [
    "print(c.data)"
   ]
  },
  {
   "cell_type": "markdown",
   "metadata": {
    "slideshow": {
     "slide_type": "subslide"
    }
   },
   "source": [
    "## Basic Functions"
   ]
  },
  {
   "cell_type": "markdown",
   "metadata": {
    "slideshow": {
     "slide_type": "subslide"
    }
   },
   "source": [
    "Simple aggregate functions can be applied straightforwardly to one-dimensional Numpy arrays."
   ]
  },
  {
   "cell_type": "code",
   "execution_count": null,
   "metadata": {},
   "outputs": [],
   "source": [
    "a = np.array([ 0, 1, 2, 3, 4, 5, 6, 7, 8, 9, 10, 11])    # one-dimensional array\n",
    "print(a)"
   ]
  },
  {
   "cell_type": "code",
   "execution_count": null,
   "metadata": {},
   "outputs": [],
   "source": [
    "print(a.sum())"
   ]
  },
  {
   "cell_type": "code",
   "execution_count": null,
   "metadata": {},
   "outputs": [],
   "source": [
    "print(a.min())"
   ]
  },
  {
   "cell_type": "code",
   "execution_count": null,
   "metadata": {},
   "outputs": [],
   "source": [
    "print(a.mean())"
   ]
  },
  {
   "cell_type": "markdown",
   "metadata": {
    "slideshow": {
     "slide_type": "subslide"
    }
   },
   "source": [
    "Multi-dimensional arrays come with the added functionality of per-column and per-row aggregartion.  \n",
    "With the additional axis argument you can choose whether to apply the function to the rows of an array (axis = 1) or the columns (axis = 0)."
   ]
  },
  {
   "cell_type": "code",
   "execution_count": null,
   "metadata": {},
   "outputs": [],
   "source": [
    "b = np.array([[0, 1, 2, 3],[4, 5, 6, 7],[8, 9, 10, 11]]) # two-dimensional array\n",
    "print(b)"
   ]
  },
  {
   "cell_type": "code",
   "execution_count": null,
   "metadata": {},
   "outputs": [],
   "source": [
    "print(b.sum(axis=1))          # returns the sum of elements in each row"
   ]
  },
  {
   "cell_type": "code",
   "execution_count": null,
   "metadata": {},
   "outputs": [],
   "source": [
    "print(b.min(axis=0))          # returns the smallest element in each column"
   ]
  },
  {
   "cell_type": "code",
   "execution_count": null,
   "metadata": {},
   "outputs": [],
   "source": [
    "print(b.max(axis=1))     \n",
    "# returns the largest element in each row"
   ]
  },
  {
   "cell_type": "code",
   "execution_count": null,
   "metadata": {},
   "outputs": [],
   "source": [
    "print(b.mean(axis=0))         # returns the mean in each column"
   ]
  },
  {
   "cell_type": "code",
   "execution_count": null,
   "metadata": {},
   "outputs": [],
   "source": [
    "a = np.array(['a','b','c'])"
   ]
  },
  {
   "cell_type": "markdown",
   "metadata": {
    "slideshow": {
     "slide_type": "subslide"
    }
   },
   "source": [
    "## Basic Math"
   ]
  },
  {
   "cell_type": "markdown",
   "metadata": {
    "slideshow": {
     "slide_type": "subslide"
    }
   },
   "source": [
    "No matter the number of dimensions in an array, simple arithmetic can be performed on an element-by-element basis.  \n",
    "The operations will be applied to each element and the output will be an array of the same shape as the input array."
   ]
  },
  {
   "cell_type": "code",
   "execution_count": null,
   "metadata": {},
   "outputs": [],
   "source": [
    "a = np.array([2,2,3,4,4])\n",
    "b = np.array([4,6,6,9,8])\n",
    "c = a + b\n",
    "c"
   ]
  },
  {
   "cell_type": "code",
   "execution_count": null,
   "metadata": {},
   "outputs": [],
   "source": [
    "a = np.array([[[0, 1],[2, 3],[ 4,  5]],[[6, 7],[8, 9],[10, 11]]])   # three-dimensional array\n",
    "print(a)"
   ]
  },
  {
   "cell_type": "code",
   "execution_count": null,
   "metadata": {
    "tags": []
   },
   "outputs": [],
   "source": [
    "b = np.array([[12, 13, 14, 15],[16, 17, 18, 19],[20, 21, 22, 23]])  # two-dimensional array\n",
    "print(b)"
   ]
  },
  {
   "cell_type": "code",
   "execution_count": null,
   "metadata": {},
   "outputs": [],
   "source": [
    "print(a+2)                                                 # three-dimensional result array"
   ]
  },
  {
   "cell_type": "code",
   "execution_count": null,
   "metadata": {},
   "outputs": [],
   "source": [
    "print((b-10)/2)                                            # two-dimensional result array"
   ]
  },
  {
   "cell_type": "code",
   "execution_count": null,
   "metadata": {},
   "outputs": [],
   "source": [
    "print(a**2)                                                # three-dimensional result array"
   ]
  },
  {
   "cell_type": "code",
   "execution_count": null,
   "metadata": {},
   "outputs": [],
   "source": [
    "print(a**0.5)                                              # three-dimensional result array"
   ]
  },
  {
   "cell_type": "markdown",
   "metadata": {
    "slideshow": {
     "slide_type": "subslide"
    }
   },
   "source": [
    "When arrays are of the exact same shape element-by-element mathematical operations can be performed between them, producing an array of identical shape as a result."
   ]
  },
  {
   "cell_type": "code",
   "execution_count": null,
   "metadata": {},
   "outputs": [],
   "source": [
    "a = np.array([[0, 1, 22, 3],[4, 5, 66, 7]])           # two-dimensional array\n",
    "b = np.array([[12, 13, 14, 15],[16, 17, 18, 19]])     # two-dimensional array\n",
    "\n",
    "print(\"Addition\")                                     # NumPy provides options in functional and mathematical notation\n",
    "print(a+b)\n",
    "print(\"Comparison\")                       \n",
    "print(a>b)\n",
    "print(np.greater_equal(x, y))\n",
    "print(np.less(a,b))"
   ]
  },
  {
   "cell_type": "markdown",
   "metadata": {
    "slideshow": {
     "slide_type": "subslide"
    }
   },
   "source": [
    "# Breakout"
   ]
  },
  {
   "cell_type": "markdown",
   "metadata": {},
   "source": [
    "Use your combined knowledge of NumPy to create array `x` of shape (3,9) containing random integers between -10 and 10. Then create an array of booleans that determines whether each element is greater than 0. "
   ]
  },
  {
   "cell_type": "markdown",
   "metadata": {
    "slideshow": {
     "slide_type": "slide"
    }
   },
   "source": [
    "# Learning Objectives \n",
    "\n",
    "- Introduction to Arrays. Introduce, describe and create NumPy arrays.      \n",
    "- Array Creation. Create and shape placeholder arrays.\n",
    "- Array Basic Operations. Carry out basic operations on arrays.   "
   ]
  }
 ],
 "metadata": {
  "celltoolbar": "Slideshow",
  "kernelspec": {
   "display_name": "Python 3 (ipykernel)",
   "language": "python",
   "name": "python3"
  },
  "language_info": {
   "codemirror_mode": {
    "name": "ipython",
    "version": 3
   },
   "file_extension": ".py",
   "mimetype": "text/x-python",
   "name": "python",
   "nbconvert_exporter": "python",
   "pygments_lexer": "ipython3",
   "version": "3.9.13"
  }
 },
 "nbformat": 4,
 "nbformat_minor": 4
}
