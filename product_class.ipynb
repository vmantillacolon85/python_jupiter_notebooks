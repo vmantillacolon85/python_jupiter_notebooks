{
 "cells": [
  {
   "cell_type": "code",
   "execution_count": 31,
   "id": "06f0464e-eaa4-47b3-9743-064c747b7dfe",
   "metadata": {},
   "outputs": [],
   "source": [
    "class product:  \n",
    "      \n",
    "    # init method or constructor   \n",
    "    def __init__(self, product, category, price):  \n",
    "        self.product_name = product  \n",
    "        self.product_category = category\n",
    "        self.unit_price = price\n",
    "        \n",
    "    #  Method   \n",
    "    def get_category(self):  \n",
    "        return self.product_category\n",
    "    \n",
    "    def calculate_sales_tax(self):\n",
    "        sales_tax = 0.05*self.unit_price\n",
    "        return sales_tax"
   ]
  },
  {
   "cell_type": "code",
   "execution_count": 32,
   "id": "3d3b4cd8-1440-4a3b-b7f9-46c40516c3e5",
   "metadata": {},
   "outputs": [
    {
     "name": "stdout",
     "output_type": "stream",
     "text": [
      "The product Tea beverage 34.99\n"
     ]
    }
   ],
   "source": [
    "t = product(\"Tea\", \"beverage\", 34.99)\n",
    "print (\"The product\", t.product_name, t.product_category, t.unit_price)\n"
   ]
  },
  {
   "cell_type": "code",
   "execution_count": 33,
   "id": "c4d2a248-48d7-4d49-ac11-cedf5fcd4a43",
   "metadata": {},
   "outputs": [
    {
     "name": "stdout",
     "output_type": "stream",
     "text": [
      "The product Tea beverage 34.99\n"
     ]
    }
   ],
   "source": [
    "c = product(\"Chowder\", \"Soup\", 4.99)\n",
    "print (\"The product\", t.product_name, t.product_category, t.unit_price)"
   ]
  },
  {
   "cell_type": "code",
   "execution_count": 36,
   "id": "1adc0cb1-97e1-4a32-8e21-64d94f4f1753",
   "metadata": {},
   "outputs": [],
   "source": [
    "tax = c.calculate_sales_tax()"
   ]
  },
  {
   "cell_type": "code",
   "execution_count": 37,
   "id": "32bb174f-45d2-4a42-b7b7-13ab0460f50e",
   "metadata": {},
   "outputs": [],
   "source": [
    "total_price = c.unit_price + tax"
   ]
  },
  {
   "cell_type": "code",
   "execution_count": 38,
   "id": "ef280f82-1353-424b-9344-0d5f8b3bfdf6",
   "metadata": {},
   "outputs": [
    {
     "name": "stdout",
     "output_type": "stream",
     "text": [
      "5.2395000000000005\n"
     ]
    }
   ],
   "source": [
    "print (total_price)"
   ]
  },
  {
   "cell_type": "code",
   "execution_count": null,
   "id": "5a7acab3-381f-4caa-adc6-dcc2dfe60148",
   "metadata": {},
   "outputs": [],
   "source": []
  }
 ],
 "metadata": {
  "kernelspec": {
   "display_name": "Python 3 (ipykernel)",
   "language": "python",
   "name": "python3"
  },
  "language_info": {
   "codemirror_mode": {
    "name": "ipython",
    "version": 3
   },
   "file_extension": ".py",
   "mimetype": "text/x-python",
   "name": "python",
   "nbconvert_exporter": "python",
   "pygments_lexer": "ipython3",
   "version": "3.9.13"
  }
 },
 "nbformat": 4,
 "nbformat_minor": 5
}
