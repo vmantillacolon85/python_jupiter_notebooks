{
 "cells": [
  {
   "cell_type": "markdown",
   "id": "5ee01da3",
   "metadata": {
    "tags": []
   },
   "source": [
    "# Name Randomizer"
   ]
  },
  {
   "cell_type": "code",
   "execution_count": 1,
   "id": "0e1b15d0",
   "metadata": {},
   "outputs": [],
   "source": [
    "import numpy as np"
   ]
  },
  {
   "cell_type": "markdown",
   "id": "ea3ae573-4f4d-4883-8f45-244e2fd2467b",
   "metadata": {},
   "source": [
    "#### Create a global scope list"
   ]
  },
  {
   "cell_type": "code",
   "execution_count": 26,
   "id": "e9cdf3d3",
   "metadata": {},
   "outputs": [],
   "source": [
    "names =['Chhaya', 'Kosta', 'Diana', 'Tim', 'Mari',\n",
    "        'Aaron', 'Chad', 'Chrissy', 'Ali', \n",
    "        'Rosana', 'Marcus', 'Rosemary', 'Ess', 'Angelica',\n",
    "        'Virna', 'Kristian', 'Adam',  \n",
    "        'Victor',  'Brenda',  'Daphney',  'Sol-Marie']"
   ]
  },
  {
   "cell_type": "markdown",
   "id": "9a91bddd",
   "metadata": {},
   "source": [
    "#### Retrive a name without repetition"
   ]
  },
  {
   "cell_type": "code",
   "execution_count": 27,
   "id": "aab7f44c",
   "metadata": {},
   "outputs": [],
   "source": [
    "def lucky_volunteer(lst):\n",
    "    a = np.random.choice(lst)\n",
    "    lst.remove(a)\n",
    "    print (f\"The lucky volunteer is \\033[1m {a} \\033[0m. \\n\\nThe following students remain: \\n{list(lst)}\")    "
   ]
  },
  {
   "cell_type": "code",
   "execution_count": 28,
   "id": "a2bfdd5b",
   "metadata": {},
   "outputs": [
    {
     "name": "stdout",
     "output_type": "stream",
     "text": [
      "The lucky volunteer is \u001b[1m Victor \u001b[0m. \n",
      "\n",
      "The following students remain: \n",
      "['Chhaya', 'Kosta', 'Diana', 'Tim', 'Mari', 'Aaron', 'Chad', 'Chrissy', 'Ali', 'Rosana', 'Marcus', 'Rosemary', 'Ess', 'Angelica', 'Virna', 'Kristian', 'Adam', 'Brenda', 'Daphney', 'Sol-Marie']\n"
     ]
    }
   ],
   "source": [
    "lucky_volunteer(names)"
   ]
  },
  {
   "cell_type": "code",
   "execution_count": null,
   "id": "b27bfa6e",
   "metadata": {},
   "outputs": [],
   "source": []
  }
 ],
 "metadata": {
  "kernelspec": {
   "display_name": "Python 3 (ipykernel)",
   "language": "python",
   "name": "python3"
  },
  "language_info": {
   "codemirror_mode": {
    "name": "ipython",
    "version": 3
   },
   "file_extension": ".py",
   "mimetype": "text/x-python",
   "name": "python",
   "nbconvert_exporter": "python",
   "pygments_lexer": "ipython3",
   "version": "3.9.13"
  }
 },
 "nbformat": 4,
 "nbformat_minor": 5
}
