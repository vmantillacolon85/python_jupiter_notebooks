{
 "cells": [
  {
   "cell_type": "markdown",
   "id": "10e9d312-34dd-4f5d-b65c-4f4b93ef949b",
   "metadata": {},
   "source": [
    "# **<font color = '#fdcb6e'>Python Workshop:</font> Data Exploration, Matplotlib, and Seaborn**\n",
    "---"
   ]
  },
  {
   "cell_type": "markdown",
   "id": "49130872-b7d1-45a6-80e9-cef0b4f3369d",
   "metadata": {},
   "source": [
    "## **<font color = '#fdcb6e'>Group 5:</font> Rosemary, Chhaya, Shaday, Ali**"
   ]
  },
  {
   "cell_type": "markdown",
   "id": "e3344ef4-5c32-444d-814d-5fd7375f323b",
   "metadata": {},
   "source": [
    "## <font color = '#fdcb6e'>Dataset:</font> Tips"
   ]
  },
  {
   "cell_type": "markdown",
   "id": "ede42b32-f685-4cc6-b746-dfb39763be7c",
   "metadata": {},
   "source": [
    "### <font color = '#fdcb6e'>Context:</font> \n",
    "### A male waiter recorded the tips he received over a period of a few months working in one restaurant in Illinois.\n",
    "### This data is from <font color = '#fdcb6e'>1995</font>, so we need to keep in mind that bill and tip amounts seem lower due to inflation. (minimum wage in Illinois was <font color = '#fdcb6e'>$4.25</font> in 1995).\n",
    "### Tip culture is different from 1995 and the current year (2023)."
   ]
  },
  {
   "cell_type": "markdown",
   "id": "74dbb4c8-be1e-4121-a7fa-7bbcc63dfe5d",
   "metadata": {},
   "source": [
    "### - <font color = '#fdcb6e'>\"tip credit\"</font> was created by Congress in 1966. Tip credit was given as a percentage of the minimum wage, ranging between 40 and 60 percent until 1996 (a year after this data was recorded.)\n",
    "### - Congress froze the subminimum wage for tipped workers at $2.13 an hour, $4.03 in 2022 dollars. In 43 states, it's still $2.13 an hour <font color = '#fdcb6e'>26 YEARS LATER</font>!"
   ]
  },
  {
   "cell_type": "markdown",
   "id": "e3c4aceb-0412-4762-9cd9-1d946e1e314f",
   "metadata": {},
   "source": [
    "![](https://blogassets.7shifts.com/2022/10/Tippy-Comic---Knight-asking-for-a-tip.jpg)"
   ]
  },
  {
   "cell_type": "markdown",
   "id": "d7367ea3-7174-481c-b2d1-32796671bbe6",
   "metadata": {},
   "source": [
    "---"
   ]
  },
  {
   "cell_type": "markdown",
   "id": "0e6f4ef9-85bc-4a3d-a9ab-bc60a545a719",
   "metadata": {},
   "source": [
    "## Questions: \n",
    "   ### - 1. What is the average tip amount (percentage) given by sex?\n",
    "   ### - 2. Highest total bill per day and the average of total bill per day?\n",
    "   ### - 3. How does the table size effect the tip percentage?\n",
    "   ### - 4. Is there a difference between smokers and non-smokers and how much they tip?"
   ]
  },
  {
   "cell_type": "code",
   "execution_count": 42,
   "id": "4fc246c1-97e3-44ff-9757-ba9697927825",
   "metadata": {},
   "outputs": [],
   "source": [
    "import numpy as np\n",
    "import pandas as pd\n",
    "from matplotlib import pyplot as plt\n",
    "import seaborn as sns"
   ]
  },
  {
   "cell_type": "code",
   "execution_count": 43,
   "id": "2dfc06b3-4d60-48bc-912d-1d796dccb784",
   "metadata": {},
   "outputs": [],
   "source": [
    "df = sns.load_dataset('tips')"
   ]
  },
  {
   "cell_type": "code",
   "execution_count": 6,
   "id": "fa2e3fd6-f48f-4879-b56c-a44458b8d5d7",
   "metadata": {},
   "outputs": [
    {
     "data": {
      "text/html": [
       "<div>\n",
       "<style scoped>\n",
       "    .dataframe tbody tr th:only-of-type {\n",
       "        vertical-align: middle;\n",
       "    }\n",
       "\n",
       "    .dataframe tbody tr th {\n",
       "        vertical-align: top;\n",
       "    }\n",
       "\n",
       "    .dataframe thead th {\n",
       "        text-align: right;\n",
       "    }\n",
       "</style>\n",
       "<table border=\"1\" class=\"dataframe\">\n",
       "  <thead>\n",
       "    <tr style=\"text-align: right;\">\n",
       "      <th></th>\n",
       "      <th>total_bill</th>\n",
       "      <th>tip</th>\n",
       "      <th>sex</th>\n",
       "      <th>smoker</th>\n",
       "      <th>day</th>\n",
       "      <th>time</th>\n",
       "      <th>size</th>\n",
       "    </tr>\n",
       "  </thead>\n",
       "  <tbody>\n",
       "    <tr>\n",
       "      <th>0</th>\n",
       "      <td>16.99</td>\n",
       "      <td>1.01</td>\n",
       "      <td>Female</td>\n",
       "      <td>No</td>\n",
       "      <td>Sun</td>\n",
       "      <td>Dinner</td>\n",
       "      <td>2</td>\n",
       "    </tr>\n",
       "    <tr>\n",
       "      <th>1</th>\n",
       "      <td>10.34</td>\n",
       "      <td>1.66</td>\n",
       "      <td>Male</td>\n",
       "      <td>No</td>\n",
       "      <td>Sun</td>\n",
       "      <td>Dinner</td>\n",
       "      <td>3</td>\n",
       "    </tr>\n",
       "    <tr>\n",
       "      <th>2</th>\n",
       "      <td>21.01</td>\n",
       "      <td>3.50</td>\n",
       "      <td>Male</td>\n",
       "      <td>No</td>\n",
       "      <td>Sun</td>\n",
       "      <td>Dinner</td>\n",
       "      <td>3</td>\n",
       "    </tr>\n",
       "    <tr>\n",
       "      <th>3</th>\n",
       "      <td>23.68</td>\n",
       "      <td>3.31</td>\n",
       "      <td>Male</td>\n",
       "      <td>No</td>\n",
       "      <td>Sun</td>\n",
       "      <td>Dinner</td>\n",
       "      <td>2</td>\n",
       "    </tr>\n",
       "    <tr>\n",
       "      <th>4</th>\n",
       "      <td>24.59</td>\n",
       "      <td>3.61</td>\n",
       "      <td>Female</td>\n",
       "      <td>No</td>\n",
       "      <td>Sun</td>\n",
       "      <td>Dinner</td>\n",
       "      <td>4</td>\n",
       "    </tr>\n",
       "  </tbody>\n",
       "</table>\n",
       "</div>"
      ],
      "text/plain": [
       "   total_bill   tip     sex smoker  day    time  size\n",
       "0       16.99  1.01  Female     No  Sun  Dinner     2\n",
       "1       10.34  1.66    Male     No  Sun  Dinner     3\n",
       "2       21.01  3.50    Male     No  Sun  Dinner     3\n",
       "3       23.68  3.31    Male     No  Sun  Dinner     2\n",
       "4       24.59  3.61  Female     No  Sun  Dinner     4"
      ]
     },
     "execution_count": 6,
     "metadata": {},
     "output_type": "execute_result"
    }
   ],
   "source": [
    "df.head(5)"
   ]
  },
  {
   "cell_type": "markdown",
   "id": "19f57849-2664-4064-98b5-a15105827ac5",
   "metadata": {},
   "source": [
    "### **1. What is the average tip amount (percentage) given by sex? Who tips more? (Females vs. Males)**"
   ]
  },
  {
   "cell_type": "code",
   "execution_count": 44,
   "id": "d86235cf-739e-484a-968b-22c1700e8682",
   "metadata": {},
   "outputs": [],
   "source": [
    "# First I need to calculate the total bill and tip and find the percentage.\n",
    "    # tip percentage = (tip amount / total bill) x 100\n",
    "# I have to create a new column with the percentage\n",
    "# Then find the average of those two percentages for females and males.\n",
    "\n",
    "df['tip_pct'] = (df['tip'] / df['total_bill']) * 100"
   ]
  },
  {
   "cell_type": "code",
   "execution_count": 18,
   "id": "430cbf7b-fd88-4026-a79d-f076398e852c",
   "metadata": {},
   "outputs": [
    {
     "data": {
      "text/html": [
       "<div>\n",
       "<style scoped>\n",
       "    .dataframe tbody tr th:only-of-type {\n",
       "        vertical-align: middle;\n",
       "    }\n",
       "\n",
       "    .dataframe tbody tr th {\n",
       "        vertical-align: top;\n",
       "    }\n",
       "\n",
       "    .dataframe thead th {\n",
       "        text-align: right;\n",
       "    }\n",
       "</style>\n",
       "<table border=\"1\" class=\"dataframe\">\n",
       "  <thead>\n",
       "    <tr style=\"text-align: right;\">\n",
       "      <th></th>\n",
       "      <th>total_bill</th>\n",
       "      <th>tip</th>\n",
       "      <th>sex</th>\n",
       "      <th>smoker</th>\n",
       "      <th>day</th>\n",
       "      <th>time</th>\n",
       "      <th>size</th>\n",
       "      <th>tip_pct</th>\n",
       "    </tr>\n",
       "  </thead>\n",
       "  <tbody>\n",
       "    <tr>\n",
       "      <th>0</th>\n",
       "      <td>16.99</td>\n",
       "      <td>1.01</td>\n",
       "      <td>Female</td>\n",
       "      <td>No</td>\n",
       "      <td>Sun</td>\n",
       "      <td>Dinner</td>\n",
       "      <td>2</td>\n",
       "      <td>5.944673</td>\n",
       "    </tr>\n",
       "    <tr>\n",
       "      <th>1</th>\n",
       "      <td>10.34</td>\n",
       "      <td>1.66</td>\n",
       "      <td>Male</td>\n",
       "      <td>No</td>\n",
       "      <td>Sun</td>\n",
       "      <td>Dinner</td>\n",
       "      <td>3</td>\n",
       "      <td>16.054159</td>\n",
       "    </tr>\n",
       "    <tr>\n",
       "      <th>2</th>\n",
       "      <td>21.01</td>\n",
       "      <td>3.50</td>\n",
       "      <td>Male</td>\n",
       "      <td>No</td>\n",
       "      <td>Sun</td>\n",
       "      <td>Dinner</td>\n",
       "      <td>3</td>\n",
       "      <td>16.658734</td>\n",
       "    </tr>\n",
       "    <tr>\n",
       "      <th>3</th>\n",
       "      <td>23.68</td>\n",
       "      <td>3.31</td>\n",
       "      <td>Male</td>\n",
       "      <td>No</td>\n",
       "      <td>Sun</td>\n",
       "      <td>Dinner</td>\n",
       "      <td>2</td>\n",
       "      <td>13.978041</td>\n",
       "    </tr>\n",
       "    <tr>\n",
       "      <th>4</th>\n",
       "      <td>24.59</td>\n",
       "      <td>3.61</td>\n",
       "      <td>Female</td>\n",
       "      <td>No</td>\n",
       "      <td>Sun</td>\n",
       "      <td>Dinner</td>\n",
       "      <td>4</td>\n",
       "      <td>14.680765</td>\n",
       "    </tr>\n",
       "    <tr>\n",
       "      <th>...</th>\n",
       "      <td>...</td>\n",
       "      <td>...</td>\n",
       "      <td>...</td>\n",
       "      <td>...</td>\n",
       "      <td>...</td>\n",
       "      <td>...</td>\n",
       "      <td>...</td>\n",
       "      <td>...</td>\n",
       "    </tr>\n",
       "    <tr>\n",
       "      <th>239</th>\n",
       "      <td>29.03</td>\n",
       "      <td>5.92</td>\n",
       "      <td>Male</td>\n",
       "      <td>No</td>\n",
       "      <td>Sat</td>\n",
       "      <td>Dinner</td>\n",
       "      <td>3</td>\n",
       "      <td>20.392697</td>\n",
       "    </tr>\n",
       "    <tr>\n",
       "      <th>240</th>\n",
       "      <td>27.18</td>\n",
       "      <td>2.00</td>\n",
       "      <td>Female</td>\n",
       "      <td>Yes</td>\n",
       "      <td>Sat</td>\n",
       "      <td>Dinner</td>\n",
       "      <td>2</td>\n",
       "      <td>7.358352</td>\n",
       "    </tr>\n",
       "    <tr>\n",
       "      <th>241</th>\n",
       "      <td>22.67</td>\n",
       "      <td>2.00</td>\n",
       "      <td>Male</td>\n",
       "      <td>Yes</td>\n",
       "      <td>Sat</td>\n",
       "      <td>Dinner</td>\n",
       "      <td>2</td>\n",
       "      <td>8.822232</td>\n",
       "    </tr>\n",
       "    <tr>\n",
       "      <th>242</th>\n",
       "      <td>17.82</td>\n",
       "      <td>1.75</td>\n",
       "      <td>Male</td>\n",
       "      <td>No</td>\n",
       "      <td>Sat</td>\n",
       "      <td>Dinner</td>\n",
       "      <td>2</td>\n",
       "      <td>9.820426</td>\n",
       "    </tr>\n",
       "    <tr>\n",
       "      <th>243</th>\n",
       "      <td>18.78</td>\n",
       "      <td>3.00</td>\n",
       "      <td>Female</td>\n",
       "      <td>No</td>\n",
       "      <td>Thur</td>\n",
       "      <td>Dinner</td>\n",
       "      <td>2</td>\n",
       "      <td>15.974441</td>\n",
       "    </tr>\n",
       "  </tbody>\n",
       "</table>\n",
       "<p>244 rows × 8 columns</p>\n",
       "</div>"
      ],
      "text/plain": [
       "     total_bill   tip     sex smoker   day    time  size    tip_pct\n",
       "0         16.99  1.01  Female     No   Sun  Dinner     2   5.944673\n",
       "1         10.34  1.66    Male     No   Sun  Dinner     3  16.054159\n",
       "2         21.01  3.50    Male     No   Sun  Dinner     3  16.658734\n",
       "3         23.68  3.31    Male     No   Sun  Dinner     2  13.978041\n",
       "4         24.59  3.61  Female     No   Sun  Dinner     4  14.680765\n",
       "..          ...   ...     ...    ...   ...     ...   ...        ...\n",
       "239       29.03  5.92    Male     No   Sat  Dinner     3  20.392697\n",
       "240       27.18  2.00  Female    Yes   Sat  Dinner     2   7.358352\n",
       "241       22.67  2.00    Male    Yes   Sat  Dinner     2   8.822232\n",
       "242       17.82  1.75    Male     No   Sat  Dinner     2   9.820426\n",
       "243       18.78  3.00  Female     No  Thur  Dinner     2  15.974441\n",
       "\n",
       "[244 rows x 8 columns]"
      ]
     },
     "execution_count": 18,
     "metadata": {},
     "output_type": "execute_result"
    }
   ],
   "source": [
    "df"
   ]
  },
  {
   "cell_type": "code",
   "execution_count": 16,
   "id": "1d1caeee-c488-4dc2-8442-cb45c844c5e5",
   "metadata": {},
   "outputs": [
    {
     "data": {
      "text/html": [
       "<div>\n",
       "<style scoped>\n",
       "    .dataframe tbody tr th:only-of-type {\n",
       "        vertical-align: middle;\n",
       "    }\n",
       "\n",
       "    .dataframe tbody tr th {\n",
       "        vertical-align: top;\n",
       "    }\n",
       "\n",
       "    .dataframe thead th {\n",
       "        text-align: right;\n",
       "    }\n",
       "</style>\n",
       "<table border=\"1\" class=\"dataframe\">\n",
       "  <thead>\n",
       "    <tr style=\"text-align: right;\">\n",
       "      <th></th>\n",
       "      <th>total_bill</th>\n",
       "      <th>tip</th>\n",
       "      <th>size</th>\n",
       "      <th>tip_pct</th>\n",
       "    </tr>\n",
       "  </thead>\n",
       "  <tbody>\n",
       "    <tr>\n",
       "      <th>count</th>\n",
       "      <td>244.000000</td>\n",
       "      <td>244.000000</td>\n",
       "      <td>244.000000</td>\n",
       "      <td>244.000000</td>\n",
       "    </tr>\n",
       "    <tr>\n",
       "      <th>mean</th>\n",
       "      <td>19.785943</td>\n",
       "      <td>2.998279</td>\n",
       "      <td>2.569672</td>\n",
       "      <td>16.080258</td>\n",
       "    </tr>\n",
       "    <tr>\n",
       "      <th>std</th>\n",
       "      <td>8.902412</td>\n",
       "      <td>1.383638</td>\n",
       "      <td>0.951100</td>\n",
       "      <td>6.107220</td>\n",
       "    </tr>\n",
       "    <tr>\n",
       "      <th>min</th>\n",
       "      <td>3.070000</td>\n",
       "      <td>1.000000</td>\n",
       "      <td>1.000000</td>\n",
       "      <td>3.563814</td>\n",
       "    </tr>\n",
       "    <tr>\n",
       "      <th>25%</th>\n",
       "      <td>13.347500</td>\n",
       "      <td>2.000000</td>\n",
       "      <td>2.000000</td>\n",
       "      <td>12.912736</td>\n",
       "    </tr>\n",
       "    <tr>\n",
       "      <th>50%</th>\n",
       "      <td>17.795000</td>\n",
       "      <td>2.900000</td>\n",
       "      <td>2.000000</td>\n",
       "      <td>15.476977</td>\n",
       "    </tr>\n",
       "    <tr>\n",
       "      <th>75%</th>\n",
       "      <td>24.127500</td>\n",
       "      <td>3.562500</td>\n",
       "      <td>3.000000</td>\n",
       "      <td>19.147549</td>\n",
       "    </tr>\n",
       "    <tr>\n",
       "      <th>max</th>\n",
       "      <td>50.810000</td>\n",
       "      <td>10.000000</td>\n",
       "      <td>6.000000</td>\n",
       "      <td>71.034483</td>\n",
       "    </tr>\n",
       "  </tbody>\n",
       "</table>\n",
       "</div>"
      ],
      "text/plain": [
       "       total_bill         tip        size     tip_pct\n",
       "count  244.000000  244.000000  244.000000  244.000000\n",
       "mean    19.785943    2.998279    2.569672   16.080258\n",
       "std      8.902412    1.383638    0.951100    6.107220\n",
       "min      3.070000    1.000000    1.000000    3.563814\n",
       "25%     13.347500    2.000000    2.000000   12.912736\n",
       "50%     17.795000    2.900000    2.000000   15.476977\n",
       "75%     24.127500    3.562500    3.000000   19.147549\n",
       "max     50.810000   10.000000    6.000000   71.034483"
      ]
     },
     "execution_count": 16,
     "metadata": {},
     "output_type": "execute_result"
    }
   ],
   "source": [
    "df.describe()"
   ]
  },
  {
   "cell_type": "code",
   "execution_count": 22,
   "id": "96ce0473-3f48-4ec5-92e2-89e40054a8bf",
   "metadata": {},
   "outputs": [],
   "source": [
    "tip_pct_by_sex = df.groupby('sex')['tip_pct'].mean()"
   ]
  },
  {
   "cell_type": "code",
   "execution_count": 23,
   "id": "942eac3e-8fa2-4dee-a546-6150daeaac85",
   "metadata": {},
   "outputs": [
    {
     "data": {
      "text/plain": [
       "sex\n",
       "Male      15.765055\n",
       "Female    16.649074\n",
       "Name: tip_pct, dtype: float64"
      ]
     },
     "execution_count": 23,
     "metadata": {},
     "output_type": "execute_result"
    }
   ],
   "source": [
    "tip_pct_by_sex"
   ]
  },
  {
   "cell_type": "markdown",
   "id": "a562d2cc-d701-4426-9c04-804a01224de9",
   "metadata": {},
   "source": [
    "### On average, females tip (16.64%) and males tip (15.76%). Females tip approximately 1% more than males.\n",
    "### Answer: Females tip more!"
   ]
  },
  {
   "cell_type": "code",
   "execution_count": 36,
   "id": "df6bd038-0c28-44eb-9e4e-8261017f2ab1",
   "metadata": {},
   "outputs": [
    {
     "data": {
      "text/plain": [
       "Text(0.5, 1.0, 'Average Tip Percentage by Sex')"
      ]
     },
     "execution_count": 36,
     "metadata": {},
     "output_type": "execute_result"
    },
    {
     "data": {
      "image/png": "[encoded data removed]",
      "text/plain": [
       "<Figure size 640x480 with 1 Axes>"
      ]
     },
     "metadata": {},
     "output_type": "display_data"
    }
   ],
   "source": [
    "tip_pct_bar = sns.barplot(x = 'sex', y = 'tip_pct', data = df, ci = None, palette = [\"#81ecec\", \"#ffeaa7\"])\n",
    "\n",
    "plt.xlabel('Sex', fontweight = 'bold')\n",
    "plt.ylabel('Avg. Tip (%)', fontweight = 'bold')\n",
    "plt.title('Average Tip Percentage by Sex', fontweight = 'bold')"
   ]
  },
  {
   "cell_type": "markdown",
   "id": "59e24f70-5749-43dc-b5a4-0837ff3b9de8",
   "metadata": {},
   "source": [
    "### Curiosity Investigation: What is the maximum tip percentage by sex? "
   ]
  },
  {
   "cell_type": "code",
   "execution_count": 40,
   "id": "379ad864-60fe-45b8-9c74-053b8f6d0d73",
   "metadata": {},
   "outputs": [],
   "source": [
    "tip_pct_max_by_sex = df.groupby('sex')['tip_pct'].max()"
   ]
  },
  {
   "cell_type": "code",
   "execution_count": 41,
   "id": "4044b62e-2a6a-42f6-9d9f-6b1254b026b4",
   "metadata": {},
   "outputs": [
    {
     "data": {
      "text/plain": [
       "sex\n",
       "Male      71.034483\n",
       "Female    41.666667\n",
       "Name: tip_pct, dtype: float64"
      ]
     },
     "execution_count": 41,
     "metadata": {},
     "output_type": "execute_result"
    }
   ],
   "source": [
    "tip_pct_max_by_sex "
   ]
  },
  {
   "cell_type": "markdown",
   "id": "e0c39dbc-fce5-4b6e-a66b-7db8485900f3",
   "metadata": {},
   "source": [
    "### A whopping 71% tip was given by a male customer!\n",
    "### 41% was given by a female customer. These numbers are high considering the year (1995) and what is expected of us (tip percentage wise) in 2023."
   ]
  },
  {
   "cell_type": "markdown",
   "id": "470edaf2-0c4d-4ecf-8383-5107d761849a",
   "metadata": {},
   "source": [
    "### This made me realize that these max values can influence our average of tip percentages (outliers)."
   ]
  },
  {
   "cell_type": "code",
   "execution_count": 48,
   "id": "20fbe490-db0b-4989-9510-6d2de6b74bbc",
   "metadata": {},
   "outputs": [],
   "source": [
    "tip_pct_min_by_sex = df.groupby('sex')['tip_pct'].min()"
   ]
  },
  {
   "cell_type": "code",
   "execution_count": 49,
   "id": "807b6ebd-b2ef-49c8-ba94-c4d9cab54c99",
   "metadata": {},
   "outputs": [
    {
     "data": {
      "text/plain": [
       "sex\n",
       "Male      3.563814\n",
       "Female    5.643341\n",
       "Name: tip_pct, dtype: float64"
      ]
     },
     "execution_count": 49,
     "metadata": {},
     "output_type": "execute_result"
    }
   ],
   "source": [
    "tip_pct_min_by_sex"
   ]
  },
  {
   "cell_type": "markdown",
   "id": "11a7a24f-6aed-46c7-b90f-8047a2425f58",
   "metadata": {},
   "source": [
    "### The lowest average (%) of tips for males was 3.5% and females 5.64%, again, these values can influence the mean as well."
   ]
  }
 ],
 "metadata": {
  "kernelspec": {
   "display_name": "Python 3 (ipykernel)",
   "language": "python",
   "name": "python3"
  },
  "language_info": {
   "codemirror_mode": {
    "name": "ipython",
    "version": 3
   },
   "file_extension": ".py",
   "mimetype": "text/x-python",
   "name": "python",
   "nbconvert_exporter": "python",
   "pygments_lexer": "ipython3",
   "version": "3.9.13"
  }
 },
 "nbformat": 4,
 "nbformat_minor": 5
}
