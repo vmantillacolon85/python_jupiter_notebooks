{
 "cells": [
  {
   "cell_type": "markdown",
   "id": "a792f436-c3d3-4980-a2b1-b2ff56be2d53",
   "metadata": {},
   "source": [
    "NumPy Arrays and Indexing"
   ]
  },
  {
   "cell_type": "code",
   "execution_count": 2,
   "id": "ff10c8df-ed09-42a7-b894-e2cf3ff6d133",
   "metadata": {},
   "outputs": [],
   "source": [
    "import numpy as np"
   ]
  },
  {
   "cell_type": "markdown",
   "id": "cc205111-0d52-43d2-ab75-97cab8160356",
   "metadata": {},
   "source": [
    "1. Create a numpy array called ‘height in inches’ from a list 10 of numbers: [66, 68, 71, 64, 61, 74, 64, 65, 70, 71]."
   ]
  },
  {
   "cell_type": "code",
   "execution_count": 51,
   "id": "e4ba5da5-fea7-4c78-9be7-c10fea8231d3",
   "metadata": {},
   "outputs": [
    {
     "data": {
      "text/plain": [
       "array([66, 68, 71, 64, 61, 74])"
      ]
     },
     "execution_count": 51,
     "metadata": {},
     "output_type": "execute_result"
    }
   ],
   "source": [
    "height_in_inches = np.array([66, 68,71, 64, 61, 74])\n",
    "#print(height_in_inches)\n",
    "height_in_inches\n",
    "#height_in_inches.dtype"
   ]
  },
  {
   "cell_type": "markdown",
   "id": "f2bb6401-18fd-4fd4-8ac7-b4c41f43d580",
   "metadata": {},
   "source": [
    "2. Create a new array called ‘height_in_feet’ and make its values equal to the values in the first array divided by 12."
   ]
  },
  {
   "cell_type": "code",
   "execution_count": 59,
   "id": "ab210fd9-2fec-480f-9112-e350562b529d",
   "metadata": {},
   "outputs": [
    {
     "name": "stdout",
     "output_type": "stream",
     "text": [
      "[5.5        5.66666667 5.91666667 5.33333333 5.08333333 6.16666667]\n"
     ]
    }
   ],
   "source": [
    "height_in_feet = np.array([66, 68,71, 64, 61, 74])\n",
    "#print(height_in_feet)\n",
    "#height_in_feet\n",
    "#height_in_feet.dtype\n",
    "print(height_in_feet/12)\n",
    "#print(a)"
   ]
  },
  {
   "cell_type": "markdown",
   "id": "247d19ac-13b0-4649-b69b-8bb2e648daa3",
   "metadata": {},
   "source": [
    "3. Create a 5x5 array of zeros. "
   ]
  },
  {
   "cell_type": "code",
   "execution_count": 38,
   "id": "278ff5f3-8685-477e-8e6f-74718e4afb01",
   "metadata": {},
   "outputs": [
    {
     "name": "stdout",
     "output_type": "stream",
     "text": [
      "int64\n",
      "[[0 0 0 0 0]\n",
      " [0 0 0 0 0]\n",
      " [0 0 0 0 0]\n",
      " [0 0 0 0 0]\n",
      " [0 0 0 0 0]]\n"
     ]
    }
   ],
   "source": [
    "a = np.zeros((5,5), dtype = int)\n",
    "print(a.dtype)\n",
    "print(a)"
   ]
  },
  {
   "cell_type": "markdown",
   "id": "2ecabcf1-2566-4dc5-85e0-45ee70dbee34",
   "metadata": {},
   "source": [
    "4. Create an array of random floating point numbers between 0 and 100."
   ]
  },
  {
   "cell_type": "code",
   "execution_count": 65,
   "id": "59da95c1-9f43-4ad8-b57f-87c86a730fc6",
   "metadata": {},
   "outputs": [
    {
     "name": "stdout",
     "output_type": "stream",
     "text": [
      "[36.66062141 79.63053769 54.36360431 31.3409902  81.68841865]\n"
     ]
    },
    {
     "data": {
      "text/plain": [
       "dtype('float64')"
      ]
     },
     "execution_count": 65,
     "metadata": {},
     "output_type": "execute_result"
    }
   ],
   "source": [
    "#rfloat = np.random.uniform(0,101,100)\n",
    "#print(rfloat)\n",
    "#rfloat.dtype\n",
    "rfloat = (np.random.random(5)) * 100\n",
    "print(rfloat)\n",
    "rfloat.dtype"
   ]
  },
  {
   "cell_type": "markdown",
   "id": "fa162ff2-8ca5-44e1-8fbd-8ec6d9a0fcfb",
   "metadata": {},
   "source": [
    "5. Create an array of numbers from 0 to 75 in increments of 5."
   ]
  },
  {
   "cell_type": "code",
   "execution_count": 66,
   "id": "b66f3f32-2376-4c6d-a904-03cb44324f1b",
   "metadata": {},
   "outputs": [
    {
     "name": "stdout",
     "output_type": "stream",
     "text": [
      "int64\n"
     ]
    },
    {
     "data": {
      "text/plain": [
       "array([ 0,  5, 10, 15, 20, 25, 30, 35, 40, 45, 50, 55, 60, 65, 70, 75])"
      ]
     },
     "execution_count": 66,
     "metadata": {},
     "output_type": "execute_result"
    }
   ],
   "source": [
    "a = np.arange(0,76,5)\n",
    "print(a.dtype)\n",
    "#print(a)\n",
    "a"
   ]
  },
  {
   "cell_type": "code",
   "execution_count": null,
   "id": "0963116a-be02-4b40-a731-14f5fc1df1a2",
   "metadata": {},
   "outputs": [],
   "source": []
  }
 ],
 "metadata": {
  "kernelspec": {
   "display_name": "Python 3 (ipykernel)",
   "language": "python",
   "name": "python3"
  },
  "language_info": {
   "codemirror_mode": {
    "name": "ipython",
    "version": 3
   },
   "file_extension": ".py",
   "mimetype": "text/x-python",
   "name": "python",
   "nbconvert_exporter": "python",
   "pygments_lexer": "ipython3",
   "version": "3.9.13"
  }
 },
 "nbformat": 4,
 "nbformat_minor": 5
}
